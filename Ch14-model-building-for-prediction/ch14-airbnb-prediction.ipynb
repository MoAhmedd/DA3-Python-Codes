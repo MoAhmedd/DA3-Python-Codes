{
 "cells": [
  {
   "cell_type": "markdown",
   "metadata": {},
   "source": [
    "### Chapter 14\n",
    "**CH14B AirBnB**\n",
    "\n",
    "using the airbnb dataset\n",
    "\n",
    "version 1.0 2023-12-28"
   ]
  },
  {
   "cell_type": "code",
   "execution_count": null,
   "metadata": {},
   "outputs": [],
   "source": [
    "import os\n",
    "import sys\n",
    "import numpy as np\n",
    "import pandas as pd\n",
    "import seaborn as sns\n",
    "import matplotlib.pyplot as plt\n",
    "from mizani.formatters import percent_format\n",
    "from plotnine import *\n",
    "import regex as re\n",
    "import statsmodels.api as sm\n",
    "import statsmodels.formula.api as smf\n",
    "import warnings\n",
    "\n",
    "warnings.filterwarnings(\"ignore\")"
   ]
  },
  {
   "cell_type": "markdown",
   "metadata": {},
   "source": [
    "### Get Data"
   ]
  },
  {
   "cell_type": "code",
   "execution_count": null,
   "metadata": {},
   "outputs": [],
   "source": [
    "# Current script and repository folder\n",
    "current_path = os.getcwd()\n",
    "repository_path = current_path.split('Ch14')[0]"
   ]
  },
  {
   "cell_type": "code",
   "execution_count": null,
   "metadata": {},
   "outputs": [],
   "source": [
    "# Add utils folder to sys path \n",
    "# Note: os.path.join() creates a string with the right syntax for defining a path for your operating sytem.\n",
    "sys.path.append(os.path.join(repository_path, 'utils'))"
   ]
  },
  {
   "cell_type": "code",
   "execution_count": null,
   "metadata": {},
   "outputs": [],
   "source": [
    "# Define data folder\n",
    "data_path = os.path.join(repository_path, 'data')"
   ]
  },
  {
   "cell_type": "code",
   "execution_count": null,
   "metadata": {},
   "outputs": [],
   "source": [
    "# Import the prewritten helper functions\n",
    "# We are only using the color palette in this notebook\n",
    "from py_helper_functions import *"
   ]
  },
  {
   "cell_type": "code",
   "execution_count": null,
   "metadata": {},
   "outputs": [],
   "source": [
    "# DATA IMPORT\n",
    "data = pd.read_csv(os.path.join(data_path, 'airbnb_hackney_workfile.csv'))"
   ]
  },
  {
   "cell_type": "code",
   "execution_count": null,
   "metadata": {},
   "outputs": [],
   "source": [
    "data.head()"
   ]
  },
  {
   "cell_type": "code",
   "execution_count": null,
   "metadata": {},
   "outputs": [],
   "source": [
    "data.info()"
   ]
  },
  {
   "cell_type": "markdown",
   "metadata": {},
   "source": [
    "### Feature Engineering"
   ]
  },
  {
   "cell_type": "code",
   "execution_count": null,
   "metadata": {},
   "outputs": [],
   "source": [
    "# where do we have missing variables now?\n",
    "to_filter=data.isna().sum()\n",
    "to_filter[to_filter>0].index"
   ]
  },
  {
   "cell_type": "markdown",
   "metadata": {},
   "source": [
    "#### Missing values"
   ]
  },
  {
   "cell_type": "code",
   "execution_count": null,
   "metadata": {},
   "outputs": [],
   "source": [
    "# 1. drop if no target (already did)\n",
    "data.dropna(subset=['price'], inplace = True)"
   ]
  },
  {
   "cell_type": "code",
   "execution_count": null,
   "metadata": {},
   "outputs": [],
   "source": [
    "# 2. imput when few, not that important\n",
    "data['n_bathrooms']=data['n_bathrooms'].fillna(np.nanmedian(data['n_bathrooms']))\n",
    "data['n_beds']=data['n_beds'].fillna(data['n_accommodates'])\n",
    "data['f_bathroom']=data['f_bathroom'].fillna(1)\n",
    "data['f_minimum_nights']=data['f_minimum_nights'].fillna(1)\n",
    "data['f_number_of_reviews']=data['f_number_of_reviews'].fillna(1)\n",
    "data['ln_beds']=data['ln_beds'].fillna(0)"
   ]
  },
  {
   "cell_type": "code",
   "execution_count": null,
   "metadata": {},
   "outputs": [],
   "source": [
    "data['n_bathrooms'].describe()"
   ]
  },
  {
   "cell_type": "code",
   "execution_count": null,
   "metadata": {},
   "outputs": [],
   "source": [
    "# 3. drop columns when many missing not important\n",
    "data=data.drop([\"usd_cleaning_fee\", \"p_host_response_rate\"],axis=1)"
   ]
  },
  {
   "cell_type": "code",
   "execution_count": null,
   "metadata": {},
   "outputs": [],
   "source": [
    "# where do we have missing variables now?\n",
    "to_filter=data.isna().sum()\n",
    "to_filter[to_filter>0].index"
   ]
  },
  {
   "cell_type": "code",
   "execution_count": null,
   "metadata": {},
   "outputs": [],
   "source": [
    "for var in [\"flag_days_since\",\"flag_review_scores_rating\",\"flag_reviews_per_month\"]:\n",
    "    data[var]=[int(x) for x in data[var.replace('flag','n')].isna()]"
   ]
  },
  {
   "cell_type": "code",
   "execution_count": null,
   "metadata": {},
   "outputs": [],
   "source": [
    "data['flag_days_since'].count()"
   ]
  },
  {
   "cell_type": "code",
   "execution_count": null,
   "metadata": {},
   "outputs": [],
   "source": [
    "# 4. Replace missing variables re reviews with zero, when no review + add flags\n",
    "data['n_days_since']=data['n_days_since'].fillna(np.nanmedian(data['n_days_since']))\n",
    "data['n_review_scores_rating']=data['n_review_scores_rating'].fillna(np.nanmedian(data['n_review_scores_rating']))\n",
    "data['n_reviews_per_month']=data['n_reviews_per_month'].fillna(np.nanmedian(data['n_reviews_per_month']))"
   ]
  },
  {
   "cell_type": "code",
   "execution_count": null,
   "metadata": {},
   "outputs": [],
   "source": [
    "data.flag_days_since.value_counts()"
   ]
  },
  {
   "cell_type": "code",
   "execution_count": null,
   "metadata": {},
   "outputs": [],
   "source": [
    "# Look at data\n",
    "data.price.describe()"
   ]
  },
  {
   "cell_type": "code",
   "execution_count": null,
   "metadata": {},
   "outputs": [],
   "source": [
    "# where do we have missing variables now?\n",
    "to_filter=data.isna().sum()\n",
    "to_filter[to_filter>0]"
   ]
  },
  {
   "cell_type": "code",
   "execution_count": null,
   "metadata": {},
   "outputs": [],
   "source": [
    "###################################\n",
    "# Business logic- define our prediction problem\n",
    "###################################\n",
    "# Decision\n",
    "# Size, we need a normal apartment, 1-7persons\n",
    "data=data.loc[data.n_accommodates < 8]"
   ]
  },
  {
   "cell_type": "markdown",
   "metadata": {},
   "source": [
    "### EDA"
   ]
  },
  {
   "cell_type": "code",
   "execution_count": null,
   "metadata": {},
   "outputs": [],
   "source": [
    "#How is the average price changing in my district by `property_type`, `room_type` and the `bed_type`?\n",
    "data.groupby([\"f_property_type\", \"f_room_type\"]).agg(mean_price=(\"price\", np.mean))"
   ]
  },
  {
   "cell_type": "code",
   "execution_count": null,
   "metadata": {},
   "outputs": [],
   "source": [
    "data.groupby([\"f_bed_type\"]).agg(mean_price=(\"price\", np.mean))"
   ]
  },
  {
   "cell_type": "code",
   "execution_count": null,
   "metadata": {},
   "outputs": [],
   "source": [
    "data.price.describe()"
   ]
  },
  {
   "cell_type": "code",
   "execution_count": null,
   "metadata": {},
   "outputs": [],
   "source": [
    "# How are extreme prices distributed?\n",
    "data.price.quantile([0.75, 0.8, 0.9, 0.95, 0.99, 0.995])"
   ]
  },
  {
   "cell_type": "code",
   "execution_count": null,
   "metadata": {},
   "outputs": [],
   "source": [
    "# We pick USD 400, above which all observations are excluded in the charts below.\n",
    "datau=data[data.price<400]"
   ]
  },
  {
   "cell_type": "code",
   "execution_count": null,
   "metadata": {},
   "outputs": [],
   "source": [
    "# Distribution of price by type below 400# Histograms# price\n",
    "(\n",
    "    ggplot(datau, aes(x=\"price\"))\n",
    "    + geom_histogram(\n",
    "        aes(y=\"stat(count)/sum(stat(count))\"),\n",
    "        binwidth=10,\n",
    "        fill=color[0],\n",
    "        color=\"white\",\n",
    "        alpha=0.8,\n",
    "        boundary=0,\n",
    "        closed=\"left\",\n",
    "    )\n",
    "    + labs(x=\"Price (US dollars)\", y=\"Percent\")\n",
    "    + scale_y_continuous(\n",
    "        expand=(0.00, 0.00),\n",
    "        limits=(0, 0.15),\n",
    "        breaks=seq(0, 0.16, by=0.03),\n",
    "        labels=percent_format(),\n",
    "    )\n",
    "    + scale_x_continuous(expand=(0.00, 0.00), limits=(0, 400), breaks=seq(0, 401, 50))\n",
    "    + theme_bw()\n",
    ")"
   ]
  },
  {
   "cell_type": "code",
   "execution_count": null,
   "metadata": {},
   "outputs": [],
   "source": [
    "(\n",
    "    ggplot(datau, aes(x=\"ln_price\"))\n",
    "    + geom_histogram(\n",
    "        aes(y=\"stat(count)/sum(stat(count))\"),\n",
    "        binwidth=0.2,\n",
    "        fill=color[0],\n",
    "        color=\"white\",\n",
    "        alpha=0.8,\n",
    "        boundary=0,\n",
    "        closed=\"left\",\n",
    "    )\n",
    "    + coord_cartesian(xlim=(2.5, 6.5))\n",
    "    + scale_y_continuous(\n",
    "        expand=(0.00, 0.00),\n",
    "        limits=(0, 0.15),\n",
    "        breaks=seq(0, 0.16, by=0.05),\n",
    "        labels=percent_format(),\n",
    "    )\n",
    "    + scale_x_continuous(expand=(0.00, 0.01), breaks=seq(2.4, 6.7, 0.6))\n",
    "    + labs(x=\"ln(price, US dollars)\", y=\"Percent\")\n",
    "    + theme_bw()\n",
    ")"
   ]
  },
  {
   "cell_type": "code",
   "execution_count": null,
   "metadata": {},
   "outputs": [],
   "source": [
    "# relative frequencies with matplotlib\n",
    "# the distribution is different as matplotlib splits the observations into different buckets than ggplot\n",
    "from matplotlib.ticker import PercentFormatter\n",
    "fig = plt.figure(figsize = (10,6))\n",
    "ax = fig.add_subplot(111)\n",
    "ax.hist(datau.ln_price, bins = 16, density = True, rwidth = 0.9, color = 'steelblue')\n",
    "# ax.set_xticks(range(0, data.price.max(), 2000))\n",
    "ax.set_xlabel('ln price in USD')\n",
    "ax.yaxis.set_major_formatter(PercentFormatter(xmax=10, decimals = 0))\n",
    "ax.set_title('Relative frequency of logged car prices')\n",
    "plt.show()"
   ]
  },
  {
   "cell_type": "code",
   "execution_count": null,
   "metadata": {},
   "outputs": [],
   "source": [
    "## Boxplot of price by room type\n",
    "(\n",
    "    ggplot(datau, aes(x=\"f_room_type\", y=\"price\"))\n",
    "    + stat_boxplot(\n",
    "        aes(group=\"f_room_type\"),\n",
    "        geom=\"errorbar\",\n",
    "        width=0.3,\n",
    "        color=(color[1], color[0], color[2]),\n",
    "        size=0.5,\n",
    "        na_rm=True,\n",
    "    )\n",
    "    + geom_boxplot(\n",
    "        aes(group=\"f_room_type\"),\n",
    "        color=(color[1], color[0], color[2]),\n",
    "        # fill=(color[1], color[0], color[2]),\n",
    "        size=0.5,\n",
    "        width=0.6,\n",
    "        alpha=0.3,\n",
    "        na_rm=True,\n",
    "        outlier_shape=\"\",\n",
    "    )\n",
    "    + scale_y_continuous(expand=(0.01, 0.01), limits=(0, 300), breaks=seq(0, 301, 100))\n",
    "    + labs(x=\"Room type\", y=\"Price (US dollars)\")\n",
    "    + theme_bw()\n",
    ")"
   ]
  },
  {
   "cell_type": "code",
   "execution_count": null,
   "metadata": {},
   "outputs": [],
   "source": [
    "sns.boxplot(data = datau, x = 'f_room_type', y = 'price', orient = 'v')\n",
    "plt.show()"
   ]
  },
  {
   "cell_type": "code",
   "execution_count": null,
   "metadata": {},
   "outputs": [],
   "source": [
    "datau.f_room_type.value_counts()"
   ]
  },
  {
   "cell_type": "code",
   "execution_count": null,
   "metadata": {},
   "outputs": [],
   "source": [
    "(\n",
    "    ggplot(\n",
    "        datau,\n",
    "        aes(\n",
    "            x=\"factor(n_accommodates)\",\n",
    "            y=\"price\",\n",
    "            # fill=\"factor(f_property_type)\",\n",
    "            color=\"factor(f_property_type)\",\n",
    "        ),\n",
    "    )\n",
    "    + geom_boxplot(alpha=0.8, na_rm=True, outlier_shape=\"\", width=0.8, stat=\"boxplot\")\n",
    "    + stat_boxplot(geom=\"errorbar\", width=0.8, size=0.3, na_rm=True)\n",
    "    + scale_color_manual(name=\"\", values=(color[1], color[0]))\n",
    "    + scale_fill_manual(name=\"\", values=(color[1], color[0]))\n",
    "    + labs(x=\"Accomodates (Persons)\", y=\"Price (US dollars)\")\n",
    "    + scale_y_continuous(expand=(0.01, 0.01), limits=(0, 400), breaks=seq(0, 401, 50))\n",
    "    + theme_bw()\n",
    "    + theme(legend_position=(0.3, 0.8))\n",
    ")"
   ]
  },
  {
   "cell_type": "markdown",
   "metadata": {},
   "source": [
    "### Modelling\n",
    "\n",
    "**Basic variables**"
   ]
  },
  {
   "cell_type": "code",
   "execution_count": null,
   "metadata": {},
   "outputs": [],
   "source": [
    "basic_lev = (\n",
    "    \"n_accommodates\",\n",
    "    \"n_beds\",\n",
    "    \"f_property_type\",\n",
    "    \"f_room_type\",\n",
    "    \"n_days_since\",\n",
    "    \"flag_days_since\",\n",
    ")\n",
    "basic_add = (\"f_bathroom\", \"f_cancellation_policy\", \"f_bed_type\")\n",
    "reviews = (\"f_number_of_reviews\", \"n_review_scores_rating\", \"flag_review_scores_rating\")\n",
    "poly_lev = (\"n_accommodates2\", \"n_days_since2\", \"n_days_since3\")\n",
    "# not use p_host_response_rate due to missing obs\n",
    "amenities = list(data.filter(regex=\"^d_.*\"))"
   ]
  },
  {
   "cell_type": "code",
   "execution_count": null,
   "metadata": {},
   "outputs": [],
   "source": [
    "amenities"
   ]
  },
  {
   "cell_type": "markdown",
   "metadata": {},
   "source": [
    "**Interactions**\n"
   ]
  },
  {
   "cell_type": "code",
   "execution_count": null,
   "metadata": {},
   "outputs": [],
   "source": [
    "## Helper functions\n",
    "\n",
    "def price_diff_by_variables(df, factor_var, dummy_var):\n",
    "    stats = df.groupby([factor_var, dummy_var]).agg(\n",
    "        Mean=(\"price\", np.mean), sd=(\"price\", np.std), size=(\"price\", \"size\")\n",
    "    )\n",
    "    stats[\"se\"] = stats[\"sd\"] / stats[\"size\"] ** (1 / 2)\n",
    "    stats[\"Mean_l\"] = stats[\"Mean\"] - (1.96 * stats[\"se\"])\n",
    "    stats[\"Mean_u\"] = stats[\"Mean\"] + (1.96 * stats[\"se\"])\n",
    "    stats = stats.drop([\"sd\", \"size\"], axis=1).reset_index()\n",
    "    plot = (\n",
    "        ggplot(\n",
    "            stats,\n",
    "            aes(\n",
    "                stats.columns[0],\n",
    "                stats.columns[2],\n",
    "                fill=\"factor(\" + stats.columns[1] + \")\",\n",
    "            ),\n",
    "        )\n",
    "        + geom_bar(stat=\"identity\", position=position_dodge(width=0.9))\n",
    "        + geom_errorbar(\n",
    "            aes(ymin=\"Mean_l\", ymax=\"Mean_u\"),\n",
    "            position=position_dodge(width=0.9),\n",
    "            width=0.25,\n",
    "        )\n",
    "        + ylab(\"Mean Price\")\n",
    "        + theme_bw()\n",
    "        + theme(\n",
    "            panel_grid_major=element_blank(),\n",
    "            panel_grid_minor=element_blank(),\n",
    "            panel_border=element_blank(),\n",
    "            axis_line=element_line(),\n",
    "        )\n",
    "        + scale_fill_grey()\n",
    "    )\n",
    "\n",
    "    return plot\n",
    "\n",
    "\n",
    "def price_diff_by_variables2(df, factor_var, dummy_var, factor_lab, dummy_lab):\n",
    "    stats = df.groupby([factor_var, dummy_var]).agg(\n",
    "        Mean=(\"price\", np.mean), sd=(\"price\", np.std), size=(\"price\", \"size\")\n",
    "    )\n",
    "    stats[\"se\"] = stats[\"sd\"] / stats[\"size\"] ** (1 / 2)\n",
    "    stats[\"Mean_l\"] = stats[\"Mean\"] - (1.96 * stats[\"se\"])\n",
    "    stats[\"Mean_u\"] = stats[\"Mean\"] + (1.96 * stats[\"se\"])\n",
    "    stats = stats.drop([\"sd\", \"size\"], axis=1).reset_index()\n",
    "    plot = (\n",
    "        ggplot(\n",
    "            stats,\n",
    "            aes(\n",
    "                stats.columns[0],\n",
    "                stats.columns[2],\n",
    "                fill=\"factor(\" + stats.columns[1] + \")\",\n",
    "            ),\n",
    "        )\n",
    "        + geom_bar(stat=\"identity\", position=position_dodge(width=0.9))\n",
    "        + geom_errorbar(\n",
    "            aes(ymin=\"Mean_l\", ymax=\"Mean_u\"),\n",
    "            position=position_dodge(width=0.9),\n",
    "            width=0.25,\n",
    "        )\n",
    "        + scale_color_manual(name=dummy_lab, values=(color[1], color[0]))\n",
    "        + scale_fill_manual(name=dummy_lab, values=(color[1], color[0]))\n",
    "        + ylab(\"Mean Price\")\n",
    "        + xlab(factor_lab)\n",
    "        + theme_bw()\n",
    "        + theme(\n",
    "            panel_grid_major=element_blank(),\n",
    "            panel_grid_minor=element_blank(),\n",
    "            panel_border=element_blank(),\n",
    "            axis_line=element_line(),\n",
    "            legend_position=\"top\",\n",
    "            legend_box=\"vertical\",\n",
    "            legend_text=element_text(size=5),\n",
    "            legend_title=element_text(size=5, face=\"bold\"),\n",
    "        )\n",
    "    )\n",
    "\n",
    "    return plot"
   ]
  },
  {
   "cell_type": "code",
   "execution_count": null,
   "metadata": {},
   "outputs": [],
   "source": [
    "price_diff_by_variables2(data,\"f_room_type\",\"d_familykidfriendly\",\"Room type\", \"Family kid friendly\")"
   ]
  },
  {
   "cell_type": "code",
   "execution_count": null,
   "metadata": {},
   "outputs": [],
   "source": [
    "price_diff_by_variables2(data, \"f_room_type\", \"f_property_type\", \"Room type\", \"Property type\")"
   ]
  },
  {
   "cell_type": "markdown",
   "metadata": {},
   "source": [
    "Cancelation policy"
   ]
  },
  {
   "cell_type": "code",
   "execution_count": null,
   "metadata": {},
   "outputs": [],
   "source": [
    "price_diff_by_variables2(data, \"f_cancellation_policy\", \"d_familykidfriendly\", \"Cancellation policy\", \"Family kid friendly\")"
   ]
  },
  {
   "cell_type": "code",
   "execution_count": null,
   "metadata": {},
   "outputs": [],
   "source": [
    "price_diff_by_variables2(data, \"f_cancellation_policy\", \"d_tv\", \"Cancellation policy\", \"TV\")"
   ]
  },
  {
   "cell_type": "markdown",
   "metadata": {},
   "source": [
    "Look up property type"
   ]
  },
  {
   "cell_type": "code",
   "execution_count": null,
   "metadata": {},
   "outputs": [],
   "source": [
    "price_diff_by_variables2(data, \"f_property_type\", \"d_cats\", \"Property type\", \"Cats\")"
   ]
  },
  {
   "cell_type": "code",
   "execution_count": null,
   "metadata": {},
   "outputs": [],
   "source": [
    "price_diff_by_variables2(data, \"f_property_type\", \"d_dogs\", \"Property type\", \"Dogs\")"
   ]
  },
  {
   "cell_type": "markdown",
   "metadata": {},
   "source": [
    "**Dummies, interactions suggested by graphs**"
   ]
  },
  {
   "cell_type": "code",
   "execution_count": null,
   "metadata": {},
   "outputs": [],
   "source": [
    "X1 = (\"f_room_type*f_property_type\",  \"f_room_type*d_familykidfriendly\")\n",
    "X2=(\"d_airconditioning*f_property_type\", \"d_cats*f_property_type\", \"d_dogs*f_property_type\")\n",
    "X3=\"(f_property_type + f_room_type + f_cancellation_policy + f_bed_type) * (\"+ \"+\".join(amenities) +\")\""
   ]
  },
  {
   "cell_type": "code",
   "execution_count": null,
   "metadata": {},
   "outputs": [],
   "source": [
    "modellev1=\"~ n_accommodates\"\n",
    "modellev2=\"~\"+\"+\".join(basic_lev)\n",
    "modellev3=\"~\"+\"+\".join(basic_lev)+\"+\"+\"+\".join(basic_add)+\"+\"+\"+\".join(reviews)\n",
    "modellev4=\"~\"+\"+\".join(basic_lev)+\"+\"+\"+\".join(basic_add)+\"+\"+\"+\".join(reviews)+\"+\"+\"+\".join(poly_lev)\n",
    "modellev5=\"~\"+\"+\".join(basic_lev)+\"+\"+\"+\".join(basic_add)+\"+\"+\"+\".join(reviews)+\"+\"+\"+\".join(poly_lev)+\"+\"+\"+\".join(X1)\n",
    "modellev6=\"~\"+\"+\".join(basic_lev)+\"+\"+\"+\".join(basic_add)+\"+\"+\"+\".join(reviews)+\"+\"+\"+\".join(poly_lev)+\"+\"+\"+\".join(X1)+\"+\"+\"+\".join(X2)\n",
    "modellev7=\"~\"+\"+\".join(basic_lev)+\"+\"+\"+\".join(basic_add)+\"+\"+\"+\".join(reviews)+\"+\"+\"+\".join(poly_lev)+\"+\"+\"+\".join(X1)+\"+\"+\"+\".join(X2)+\"+\"+\"+\".join(amenities)\n",
    "modellev8=\"~\"+\"+\".join(basic_lev)+\"+\"+\"+\".join(basic_add)+\"+\"+\"+\".join(reviews)+\"+\"+\"+\".join(poly_lev)+\"+\"+\"+\".join(X1)+\"+\"+\"+\".join(X2)+\"+\"+\"+\".join(amenities)+\"+\"+X3"
   ]
  },
  {
   "cell_type": "markdown",
   "metadata": {},
   "source": [
    "#### Regressions with cross-validation\n",
    "\n",
    "**Split train & holdout for cross-validation**"
   ]
  },
  {
   "cell_type": "code",
   "execution_count": null,
   "metadata": {},
   "outputs": [],
   "source": [
    "smp_size = round(0.2 * data.shape[0])-1"
   ]
  },
  {
   "cell_type": "code",
   "execution_count": null,
   "metadata": {},
   "outputs": [],
   "source": [
    "smp_size"
   ]
  },
  {
   "cell_type": "code",
   "execution_count": null,
   "metadata": {},
   "outputs": [],
   "source": [
    "# Set the seed to make results reproducable\n",
    "np.random.seed(20240115)"
   ]
  },
  {
   "cell_type": "code",
   "execution_count": null,
   "metadata": {},
   "outputs": [],
   "source": [
    "from sklearn.model_selection import train_test_split"
   ]
  },
  {
   "cell_type": "code",
   "execution_count": null,
   "metadata": {},
   "outputs": [],
   "source": [
    "data_work,data_holdout=train_test_split(data, test_size=smp_size)"
   ]
  },
  {
   "cell_type": "code",
   "execution_count": null,
   "metadata": {},
   "outputs": [],
   "source": [
    "data_work.shape"
   ]
  },
  {
   "cell_type": "code",
   "execution_count": null,
   "metadata": {},
   "outputs": [],
   "source": [
    "data_holdout.shape"
   ]
  },
  {
   "cell_type": "code",
   "execution_count": null,
   "metadata": {},
   "outputs": [],
   "source": [
    "n_folds=5"
   ]
  },
  {
   "cell_type": "code",
   "execution_count": null,
   "metadata": {},
   "outputs": [],
   "source": [
    "from sklearn.model_selection import KFold\n",
    "from statsmodels.tools.eval_measures import mse,rmse\n",
    "k = KFold(n_splits=n_folds, shuffle=False, random_state=None)"
   ]
  },
  {
   "cell_type": "code",
   "execution_count": null,
   "metadata": {},
   "outputs": [],
   "source": [
    "def cv_reg(formula, data, kfold, testdata, robustse=None):\n",
    "    regression_list = []\n",
    "    predicts_on_test = []\n",
    "    rsquared = []\n",
    "    rmse_list = []\n",
    "    rmse_list_test = []\n",
    "\n",
    "    # Calculating OLS for each fold\n",
    "\n",
    "    for train_index, test_index in k.split(data):\n",
    "        data_train, data_test = data.iloc[train_index, :], data.iloc[test_index, :]\n",
    "        if robustse is None:\n",
    "            model = smf.ols(formula, data=data_train).fit()\n",
    "        else:\n",
    "            model = smf.ols(formula, data=data_train).fit(cov_type=robustse)\n",
    "        regression_list += [model]\n",
    "        predicts_on_test += [model.predict(data_test)]\n",
    "        rsquared += [model.rsquared]\n",
    "\n",
    "        rmse_tr = pd.concat(\n",
    "            [data_train[\"price\"], model.predict(data_train)],\n",
    "            axis=1,\n",
    "            keys=[\"price\", \"predicted\"],\n",
    "        )\n",
    "        rmse_tr = rmse_tr[~rmse_tr.isna().any(axis=1)]\n",
    "\n",
    "        rmse_te = pd.concat(\n",
    "            [data_test[\"price\"], model.predict(data_test)],\n",
    "            axis=1,\n",
    "            keys=[\"price\", \"predicted\"],\n",
    "        )\n",
    "        rmse_te = rmse_te[~rmse_te.isna().any(axis=1)]\n",
    "\n",
    "        rmse_list += [rmse(rmse_tr[\"price\"], rmse_tr[\"predicted\"], axis=0)]\n",
    "        rmse_list_test += [rmse(rmse_te[\"price\"], rmse_te[\"predicted\"], axis=0)]\n",
    "    nvars = model.df_model\n",
    "\n",
    "    return {\n",
    "        \"regressions\": regression_list,\n",
    "        \"test_predict\": predicts_on_test,\n",
    "        \"r2\": rsquared,\n",
    "        \"rmse\": rmse_list,\n",
    "        \"rmse_test\": rmse_list_test,\n",
    "        \"nvars\": nvars,\n",
    "    }\n",
    "\n",
    "\n",
    "def summarize_cv(cvlist, stat=\"rmse\"):\n",
    "    result = pd.DataFrame(\n",
    "        {\"Model\" + str(x + 1): cvlist[x][stat] for x in range(len(cvlist))}\n",
    "    )\n",
    "    result[\"Resample\"] = [\"Fold\" + str(x + 1) for x in range(len(cvlist[0][\"rmse\"]))]\n",
    "    result = result.set_index(\"Resample\")\n",
    "    result = pd.concat([result, pd.DataFrame(result.mean(), columns=[\"Average\"]).T])\n",
    "    return result"
   ]
  },
  {
   "cell_type": "code",
   "execution_count": null,
   "metadata": {},
   "outputs": [],
   "source": [
    "cv_list = []\n",
    "for i in [\n",
    "    modellev1,\n",
    "    modellev2,\n",
    "    modellev3,\n",
    "    modellev4,\n",
    "    modellev5,\n",
    "    modellev6,\n",
    "    modellev7,\n",
    "    modellev8,\n",
    "]:\n",
    "    cv_list += [cv_reg(\"price\" + i, data, k, \"HC0\")]"
   ]
  },
  {
   "cell_type": "code",
   "execution_count": null,
   "metadata": {},
   "outputs": [],
   "source": [
    "summarize_cv(cv_list)\n"
   ]
  },
  {
   "cell_type": "code",
   "execution_count": null,
   "metadata": {},
   "outputs": [],
   "source": [
    "# RMSE training vs test graph\n",
    "\n",
    "rmse_levels = {\"nvars\": [], \"var\": [], \"value\": []}\n",
    "for i in range(0, 8):\n",
    "    rmse_levels[\"nvars\"].append(int(cv_list[i][\"nvars\"]))\n",
    "    rmse_levels[\"var\"].append(\"RMSE Training\")\n",
    "    rmse_levels[\"value\"].append(pd.Series(cv_list[i][\"rmse\"]).mean())\n",
    "for i in range(0, 8):\n",
    "    rmse_levels[\"nvars\"].append(int(cv_list[i][\"nvars\"]))\n",
    "    rmse_levels[\"var\"].append(\"RMSE Test\")\n",
    "    rmse_levels[\"value\"].append(pd.Series(cv_list[i][\"rmse_test\"]).mean())\n",
    "rmse_levels = pd.DataFrame.from_dict(rmse_levels)\n",
    "rmse_levels[\"nvars2\"] = rmse_levels[\"nvars\"] + 1"
   ]
  },
  {
   "cell_type": "code",
   "execution_count": null,
   "metadata": {},
   "outputs": [],
   "source": [
    "rmse_levels"
   ]
  },
  {
   "cell_type": "code",
   "execution_count": null,
   "metadata": {},
   "outputs": [],
   "source": [
    "(\n",
    "    ggplot(rmse_levels, aes(x=\"factor(nvars2)\", y=\"value\", color=\"var\", group=\"var\"))\n",
    "    + geom_line(size=1, show_legend=True, na_rm=True)\n",
    "    + scale_color_manual(name=\"\", values=(color[0], color[1]))\n",
    "    + scale_y_continuous(name=\"RMSE\", limits=(26, 46), breaks=seq(26, 46, 2))\n",
    "    + scale_x_discrete(\n",
    "        name=\"Number of coefficients\",\n",
    "        expand=(0.01, 0.01)\n",
    "    )\n",
    "    + theme_bw()\n",
    ")"
   ]
  },
  {
   "cell_type": "code",
   "execution_count": null,
   "metadata": {},
   "outputs": [],
   "source": [
    "plt.figure(figsize=(7,5))\n",
    "ax = sns.lineplot(\n",
    "    x = [str(x) for x in rmse_levels['nvars2']], \n",
    "    y = rmse_levels['value'], \n",
    "    hue = rmse_levels['var'],\n",
    "    palette = ['k', 'steelblue']\n",
    ")\n",
    "ax.set_title('Train & Test RMSE')\n",
    "ax.set_ylabel('RMSE')\n",
    "ax.set_xlabel('# of coefficients')\n",
    "ax.legend(fontsize = 8, title = None)\n",
    "plt.show();"
   ]
  },
  {
   "cell_type": "markdown",
   "metadata": {},
   "source": [
    "#### LASSO\n",
    "\n",
    "**Doing LASSO the hard way (aka *'naive' grid search*)**"
   ]
  },
  {
   "cell_type": "code",
   "execution_count": null,
   "metadata": {},
   "outputs": [],
   "source": [
    "vars_model_7 = \"(f_property_type + f_room_type + f_cancellation_policy + f_bed_type) * (d_24hourcheckin + d_airconditioning + d_breakfast + d_buzzerwirelessintercom + d_cabletv + d_carbonmonoxidedetector + d_cats + d_dogs + d_doorman + d_doormanentry + d_dryer + d_elevatorinbuilding + d_essentials + d_familykidfriendly + d_fireextinguisher + d_firstaidkit + d_freeparkingonpremises + d_freeparkingonstreet + d_gym + d_hairdryer + d_hangers + d_heating + d_hottub + d_indoorfireplace + d_internet + d_iron + d_keypad + d_kitchen + d_laptopfriendlyworkspace + d_lockonbedroomdoor + d_lockbox + d_otherpets + d_paidparkingoffpremises + d_petsallowed + d_petsliveonthisproperty + d_pool + d_privateentrance + d_privatelivingroom + d_safetycard + d_selfcheckin + d_shampoo + d_smartlock + d_smokedetector + d_smokingallowed + d_suitableforevents + d_tv + d_washer + d_washerdryer + d_wheelchairaccessible + d_wirelessinternet)\"\n",
    "vars_model_8 = modellev8"
   ]
  },
  {
   "cell_type": "code",
   "execution_count": null,
   "metadata": {},
   "outputs": [],
   "source": [
    "from sklearn.linear_model import Lasso\n",
    "import patsy\n",
    "from sklearn.model_selection import RepeatedKFold\n",
    "from sklearn.preprocessing import StandardScaler\n",
    "\n",
    "# define model evaluation method\n",
    "cv = RepeatedKFold(n_splits=5, n_repeats=1, random_state=1)\n",
    "y, X = patsy.dmatrices(\"price\" + vars_model_8, data)"
   ]
  },
  {
   "cell_type": "code",
   "execution_count": null,
   "metadata": {},
   "outputs": [],
   "source": [
    "y"
   ]
  },
  {
   "cell_type": "code",
   "execution_count": null,
   "metadata": {},
   "outputs": [],
   "source": [
    "X.shape"
   ]
  },
  {
   "cell_type": "code",
   "execution_count": null,
   "metadata": {},
   "outputs": [],
   "source": [
    "scaler = StandardScaler()\n",
    "X = scaler.fit_transform(X)\n",
    "\n",
    "X_train, X_test, y_train, y_test = train_test_split(\n",
    "    X, y, test_size=smp_size, random_state=10\n",
    ")\n",
    "\n",
    "lambdas = [i/100 for i in range(5, 100,5)]\n",
    "\n",
    "train_r_squared = np.zeros(len(lambdas))\n",
    "test_r_squared = np.zeros(len(lambdas))\n",
    "\n",
    "pred_num = X.shape[1]\n",
    "coeff_a = np.zeros((len(lambdas), pred_num))"
   ]
  },
  {
   "cell_type": "code",
   "execution_count": null,
   "metadata": {},
   "outputs": [],
   "source": [
    "import datetime"
   ]
  },
  {
   "cell_type": "code",
   "execution_count": null,
   "metadata": {},
   "outputs": [],
   "source": [
    "from sklearn.model_selection import cross_val_score\n",
    "\n",
    "for ind, i in enumerate(lambdas):\n",
    "    print(f\"Run: {str(ind).rjust(2)}, lambda: {i:.2f}, start: {datetime.datetime.now().strftime('%Y-%m-%d %H:%M:%S')}\")\n",
    "    reg = Lasso(alpha = i, random_state= 20240115)\n",
    "    reg.fit(X_train, y_train)\n",
    "    results = cross_val_score(reg, X, y, cv=cv, scoring=\"r2\")\n",
    "\n",
    "    train_r_squared[ind] = reg.score(X_train, y_train)    \n",
    "    test_r_squared[ind] = reg.score(X_test, y_test)"
   ]
  },
  {
   "cell_type": "code",
   "execution_count": null,
   "metadata": {},
   "outputs": [],
   "source": [
    "r_squared_data = (\n",
    "    pd.DataFrame(\n",
    "        {\n",
    "            \"$R^2$ Test set\": test_r_squared,\n",
    "            \"$R^2$ Training set\": train_r_squared,\n",
    "            \"lambda\": lambdas,\n",
    "        }\n",
    "    )\n",
    "    .melt(id_vars=[\"lambda\"])\n",
    ")"
   ]
  },
  {
   "cell_type": "code",
   "execution_count": null,
   "metadata": {},
   "outputs": [],
   "source": [
    "r_squared_data.info()"
   ]
  },
  {
   "cell_type": "code",
   "execution_count": null,
   "metadata": {},
   "outputs": [],
   "source": [
    "r_squared_data[\"variable\"] = r_squared_data[\"variable\"].astype(\"category\").cat.reorder_categories(\n",
    "    [\"$R^2$ Training set\", \"$R^2$ Test set\"]\n",
    ")"
   ]
  },
  {
   "cell_type": "code",
   "execution_count": null,
   "metadata": {},
   "outputs": [],
   "source": [
    "r_squared_data.info()"
   ]
  },
  {
   "cell_type": "markdown",
   "metadata": {},
   "source": [
    "#### Plot results using `ggplot` and `seaborn`"
   ]
  },
  {
   "cell_type": "code",
   "execution_count": null,
   "metadata": {},
   "outputs": [],
   "source": [
    "(\n",
    "    ggplot(r_squared_data, aes(x=\"lambda\", y=\"value\", color=\"variable\"))\n",
    "    + geom_point()\n",
    "    + geom_line(size=1, show_legend=False, na_rm=True)\n",
    "    + scale_color_manual(name=\"\", values=(color[1], color[0]))\n",
    "    + scale_y_continuous(name=\"$R^2$\")\n",
    "    + facet_wrap(\"variable\", scales=\"free\")\n",
    "    + theme_bw()\n",
    "    + theme(subplots_adjust={\"wspace\": 0.25},legend_title=element_blank())\n",
    ")"
   ]
  },
  {
   "cell_type": "code",
   "execution_count": null,
   "metadata": {},
   "outputs": [],
   "source": [
    "(\n",
    "    ggplot(r_squared_data, aes(x=\"lambda\", y=\"value\", color=\"variable\"))\n",
    "    + geom_point()\n",
    "    + geom_line(size=1, show_legend=False, na_rm=True)\n",
    "    + scale_color_manual(name=\"\", values=(color[1], color[0]))\n",
    "    + scale_y_continuous(name=\"$R^2$\")\n",
    "    + facet_grid(\"variable ~ .\", scales=\"free\")\n",
    "    + theme_bw()\n",
    "    + theme(subplots_adjust={\"wspace\": 0.25}, legend_title=element_blank())\n",
    ")"
   ]
  },
  {
   "cell_type": "code",
   "execution_count": null,
   "metadata": {},
   "outputs": [],
   "source": [
    "plt.figure(figsize=(7,5))\n",
    "ax = sns.lineplot(\n",
    "    data = r_squared_data, \n",
    "    x = 'lambda', y = 'value', hue = 'variable', \n",
    "    palette = ['k', 'steelblue'],\n",
    "    marker = 'o'\n",
    ")\n",
    "ax.set_title('Train & Test $R^2$')\n",
    "ax.set_ylabel('$R^2$')\n",
    "ax.set_xlabel('lambda')\n",
    "ax.set_xticks(lambdas[1::2])\n",
    "ax.legend(fontsize = 8, title = None)\n",
    "plt.show();"
   ]
  },
  {
   "cell_type": "code",
   "execution_count": null,
   "metadata": {},
   "outputs": [],
   "source": [
    "df_lam = pd.DataFrame(test_r_squared*100, columns=['R_squared'])\n",
    "df_lam['lambda'] = (lambdas)\n",
    "# returns the index of the row where column has maximum value.\n",
    "df_lam.loc[df_lam['R_squared'].idxmax()]"
   ]
  },
  {
   "cell_type": "code",
   "execution_count": null,
   "metadata": {},
   "outputs": [],
   "source": [
    "reg_best = Lasso(alpha = df_lam.loc[df_lam['R_squared'].idxmax()]['lambda'])\n",
    "reg_best.fit(X_train, y_train)"
   ]
  },
  {
   "cell_type": "code",
   "execution_count": null,
   "metadata": {},
   "outputs": [],
   "source": [
    "reg_best.coef_[reg_best.coef_>0]"
   ]
  },
  {
   "cell_type": "code",
   "execution_count": null,
   "metadata": {},
   "outputs": [],
   "source": [
    "reg_best.get_params()"
   ]
  },
  {
   "cell_type": "code",
   "execution_count": null,
   "metadata": {
    "scrolled": true
   },
   "outputs": [],
   "source": [
    "from sklearn.metrics import mean_squared_error\n",
    "mean_squared_error(y_test, reg_best.predict(X_test))"
   ]
  },
  {
   "cell_type": "markdown",
   "metadata": {},
   "source": [
    "**LASSO using `GridSearch`**"
   ]
  },
  {
   "cell_type": "markdown",
   "metadata": {},
   "source": [
    "- cross-validation strategies: https://scikit-learn.org/stable/modules/cross_validation.html#cross-validation\n",
    "- RepeatedKFold: https://scikit-learn.org/stable/modules/generated/sklearn.model_selection.RepeatedKFold.html#sklearn.model_selection.RepeatedKFold\n",
    "- scoring: https://scikit-learn.org/stable/modules/model_evaluation.html#scoring-parameter\n",
    "- GridSearch: https://scikit-learn.org/stable/modules/generated/sklearn.model_selection.GridSearchCV.html"
   ]
  },
  {
   "cell_type": "code",
   "execution_count": null,
   "metadata": {},
   "outputs": [],
   "source": [
    "y,  X = patsy.dmatrices('price'+vars_model_8, data)"
   ]
  },
  {
   "cell_type": "code",
   "execution_count": null,
   "metadata": {},
   "outputs": [],
   "source": [
    "from sklearn.model_selection import GridSearchCV"
   ]
  },
  {
   "cell_type": "markdown",
   "metadata": {},
   "source": [
    "`GridSearchCV` not only searches for the best parameters, but also automatically fits a new model on the whole training dataset with the parameters that yielded the best cross-validation performance.  "
   ]
  },
  {
   "cell_type": "code",
   "execution_count": null,
   "metadata": {},
   "outputs": [],
   "source": [
    "# define model\n",
    "model = Lasso()\n",
    "# define model evaluation method\n",
    "cv = RepeatedKFold(n_splits=5, n_repeats=1, random_state=1)\n",
    "# define grid\n",
    "grid = dict()\n",
    "grid[\"alpha\"] = np.arange(0.05, 1, 0.05)\n",
    "# define search\n",
    "search = GridSearchCV(model, grid, scoring=\"neg_root_mean_squared_error\", cv=cv)\n",
    "# perform the search\n",
    "results = search.fit(X, y)"
   ]
  },
  {
   "cell_type": "code",
   "execution_count": null,
   "metadata": {},
   "outputs": [],
   "source": [
    "print(\"RMSE: \" + str(results.best_score_ * -1))"
   ]
  },
  {
   "cell_type": "code",
   "execution_count": null,
   "metadata": {},
   "outputs": [],
   "source": [
    "results.cv_results_['rank_test_score']"
   ]
  },
  {
   "cell_type": "code",
   "execution_count": null,
   "metadata": {},
   "outputs": [],
   "source": [
    "results.best_estimator_"
   ]
  },
  {
   "cell_type": "markdown",
   "metadata": {},
   "source": [
    "### Diagnostics "
   ]
  },
  {
   "cell_type": "code",
   "execution_count": null,
   "metadata": {},
   "outputs": [],
   "source": [
    "model3_level = smf.ols('price'+modellev3, data=data_work).fit(cov_type='HC0')\n",
    "model7_level = smf.ols('price'+modellev7, data=data_work).fit(cov_type='HC0')"
   ]
  },
  {
   "cell_type": "code",
   "execution_count": null,
   "metadata": {},
   "outputs": [],
   "source": [
    "# look at holdout RMSE\n",
    "model7_level_work_predictions = pd.concat(\n",
    "    [data_work[\"price\"], model7_level.predict(data_work)],\n",
    "    axis=1,\n",
    "    keys=[\"price\", \"predicted\"],\n",
    ")"
   ]
  },
  {
   "cell_type": "code",
   "execution_count": null,
   "metadata": {},
   "outputs": [],
   "source": [
    "model7_level_work_predictions.tail()"
   ]
  },
  {
   "cell_type": "code",
   "execution_count": null,
   "metadata": {},
   "outputs": [],
   "source": [
    "model7_level_work_predictions = model7_level_work_predictions[~model7_level_work_predictions.isna().any(axis=1)]\n",
    "model7_level_work_rmse = rmse(model7_level_work_predictions[\"price\"], model7_level_work_predictions[\"predicted\"], axis=0)"
   ]
  },
  {
   "cell_type": "code",
   "execution_count": null,
   "metadata": {},
   "outputs": [],
   "source": [
    "model7_level_work_rmse"
   ]
  },
  {
   "cell_type": "code",
   "execution_count": null,
   "metadata": {},
   "outputs": [],
   "source": [
    "model7_level_holdout_predictions = pd.concat(\n",
    "    [data_holdout[\"price\"], model7_level.predict(data_holdout)],\n",
    "    axis=1,\n",
    "    keys=[\"price\", \"predicted\"],\n",
    ")\n",
    "model7_level_holdout_predictions = model7_level_holdout_predictions[~model7_level_holdout_predictions.isna().any(axis=1)]\n",
    "model7_level_holdout_rmse = rmse(model7_level_holdout_predictions[\"price\"], model7_level_holdout_predictions[\"predicted\"], axis=0)\n",
    "print(\n",
    "    f\"RMSE work:{round(model7_level_work_rmse,2)}\",\n",
    "    \"\\t\",\n",
    "    f\"RMSE holdout:{model7_level_holdout_rmse:.2f}\",\n",
    ")"
   ]
  },
  {
   "cell_type": "markdown",
   "metadata": {},
   "source": [
    "#### Charting fitted vs actual"
   ]
  },
  {
   "cell_type": "code",
   "execution_count": null,
   "metadata": {},
   "outputs": [],
   "source": [
    "Ylev=data_holdout['price']\n",
    "meanY=Ylev.mean()\n",
    "sdY=Ylev.std()\n",
    "meanY_m2SE = meanY -1.96 * sdY\n",
    "meanY_p2SE = meanY + 1.96 * sdY\n",
    "Y5p=Ylev.quantile(.05)\n",
    "Y95p=Ylev.quantile(.95)"
   ]
  },
  {
   "cell_type": "markdown",
   "metadata": {},
   "source": [
    "Note: the `statsmodels` API is kind of reticent in its documentation. So much about the [summary_frame()](https://www.statsmodels.org/dev/generated/statsmodels.regression.linear_model.PredictionResults.summary_frame.html#statsmodels.regression.linear_model.PredictionResults.summary_frame) method..."
   ]
  },
  {
   "cell_type": "code",
   "execution_count": null,
   "metadata": {},
   "outputs": [],
   "source": [
    "model7_level.get_prediction(data_holdout).summary_frame(alpha=0.05)"
   ]
  },
  {
   "cell_type": "code",
   "execution_count": null,
   "metadata": {},
   "outputs": [],
   "source": [
    "# Create data frame with the real and predicted values\n",
    "data_diagnostic = model7_level.get_prediction(data_holdout).summary_frame(alpha=0.05)\n",
    "\n",
    "df_ = pd.concat(\n",
    "    [data_holdout[\"price\"], model7_level.predict(data_holdout)],\n",
    "    axis=1,\n",
    "    keys=[\"price\", \"predicted\"],\n",
    ")"
   ]
  },
  {
   "cell_type": "code",
   "execution_count": null,
   "metadata": {},
   "outputs": [],
   "source": [
    "df_.isna().sum()"
   ]
  },
  {
   "cell_type": "code",
   "execution_count": null,
   "metadata": {},
   "outputs": [],
   "source": [
    "df_ = df_[~df_.isna().any(axis=1)].reset_index(drop=True)\n",
    "data_diagnostic[\"Ylev\"] = df_[\"price\"]"
   ]
  },
  {
   "cell_type": "markdown",
   "metadata": {},
   "source": [
    "`pd.DataFrame.any()`: Return whether any element is True, potentially over an axis. \r\n",
    "Returns False unless there is at least one element within a series or along a Dataframe axis that is True or equivalent (e.g. non-zero or non-empty)."
   ]
  },
  {
   "cell_type": "code",
   "execution_count": null,
   "metadata": {},
   "outputs": [],
   "source": [
    "(\n",
    "    ggplot(data=data_diagnostic)\n",
    "    + geom_point(\n",
    "        aes(y=\"Ylev\", x=\"mean\"),\n",
    "        color=color[1],\n",
    "        size=1,\n",
    "        alpha=0.7,\n",
    "        show_legend=False,\n",
    "        na_rm=True,\n",
    "    )\n",
    "    + geom_segment(aes(x=0, y=0, xend=350, yend=350), size=0.5, color=color[2])\n",
    "    + coord_cartesian(xlim=(0, 350), ylim=(0, 350))\n",
    "    + scale_x_continuous(\n",
    "        expand=(0.01, 0.01), limits=(0, 350), breaks=seq(0, 350, by=50)\n",
    "    )\n",
    "    + scale_y_continuous(\n",
    "        expand=(0.01, 0.01), limits=(0, 350), breaks=seq(0, 350, by=50)\n",
    "    )\n",
    "    + labs(y=\"Price (US dollars)\", x=\"Predicted price  (US dollars)\")\n",
    "    + theme_bw()\n",
    ")"
   ]
  },
  {
   "cell_type": "code",
   "execution_count": null,
   "metadata": {},
   "outputs": [],
   "source": [
    "x = np.linspace(0, 300, data_diagnostic.shape[0])\n",
    "\n",
    "plt.figure(figsize = (6,6))\n",
    "ax = sns.scatterplot(\n",
    "    data=data_diagnostic, x=\"mean\", y=\"Ylev\",\n",
    "    s = 25, color = 'steelblue'\n",
    ")\n",
    "plt.plot(x,x, color = 'k')\n",
    "ax.set_xlim(0,300)\n",
    "ax.set_ylim(0,300)\n",
    "ax.set_ylabel('actual')\n",
    "ax.set_xlabel('predicted')\n",
    "ax.set_title('Actual vs predicted in USD')\n",
    "plt.show()"
   ]
  },
  {
   "cell_type": "markdown",
   "metadata": {},
   "source": [
    "#### Redo predicted values at 80% PI"
   ]
  },
  {
   "cell_type": "code",
   "execution_count": null,
   "metadata": {},
   "outputs": [],
   "source": [
    "dt = model7_level.get_prediction(data_holdout).summary_frame(alpha=0.2)\n",
    "data_extra = pd.concat(\n",
    "    [\n",
    "        data_holdout[\"price\"],\n",
    "        data_holdout[\"n_accommodates\"],\n",
    "        model7_level.predict(data_holdout),\n",
    "    ],\n",
    "    axis=1,\n",
    "    keys=[\"price\", \"n_accommodates\", \"predicted\"],\n",
    ")\n",
    "data_extra = data_extra[~data_extra.isna().any(axis=1)].reset_index(drop=True)\n",
    "dt[\"n_accommodates\"] = data_extra[\"n_accommodates\"]\n",
    "dt[\"Ylev\"] = data_extra[\"price\"]\n",
    "dt[\"elev\"] = dt[\"Ylev\"] - dt[\"mean\"]"
   ]
  },
  {
   "cell_type": "code",
   "execution_count": null,
   "metadata": {},
   "outputs": [],
   "source": [
    "data_diagnostic = model7_level.get_prediction(data_holdout).summary_frame(alpha=0.2)\n",
    "df_ = pd.concat(\n",
    "    [\n",
    "        data_holdout[\"price\"],\n",
    "        data_holdout[\"n_accommodates\"],\n",
    "        model7_level.predict(data_holdout),\n",
    "    ],\n",
    "    axis=1,\n",
    "    keys=[\"price\", \"n_accommodates\", \"predicted\"],\n",
    ")\n",
    "df_ = df_[~df_.isna().any(axis=1)].reset_index(drop=True)\n",
    "data_diagnostic[\"n_accommodates\"] = df_[\"n_accommodates\"]\n",
    "data_diagnostic[\"Ylev\"] = df_[\"price\"]\n",
    "data_diagnostic[\"elev\"] = data_diagnostic[\"Ylev\"] - data_diagnostic[\"mean\"]"
   ]
  },
  {
   "cell_type": "code",
   "execution_count": null,
   "metadata": {},
   "outputs": [],
   "source": [
    "predictionlev_holdout_summary = data_diagnostic.groupby(by=[\"n_accommodates\"]).mean().reset_index()"
   ]
  },
  {
   "cell_type": "code",
   "execution_count": null,
   "metadata": {},
   "outputs": [],
   "source": [
    "predictionlev_holdout_summary"
   ]
  },
  {
   "cell_type": "code",
   "execution_count": null,
   "metadata": {},
   "outputs": [],
   "source": [
    "(\n",
    "    ggplot(predictionlev_holdout_summary, aes(x=\"n_accommodates\"))\n",
    "    + geom_bar(aes(y=\"mean\"), stat=\"identity\", fill=color[0], alpha=0.7)\n",
    "    + geom_errorbar(aes(ymin=\"obs_ci_lower\", ymax=\"obs_ci_upper\"), width=0.2)\n",
    "    + geom_errorbar(aes(ymin=\"mean_ci_lower\", ymax=\"mean_ci_upper\"), width=0.5)\n",
    "    + scale_y_continuous(name=\"Predicted price (US dollars)\")\n",
    "    + scale_x_continuous(name=\"Accomodates (Persons)\")\n",
    "    + scale_color_manual(values=(color[1], color[1]))\n",
    "    + labs(title = \"Mean redictions and confidence intervals\")\n",
    "    + theme_bw()\n",
    "    + theme(legend_title=element_blank(), legend_position=\"none\")\n",
    "    # + theme(legend_title=element_blank(), legend_position=\"none\")\n",
    ")"
   ]
  },
  {
   "cell_type": "code",
   "execution_count": null,
   "metadata": {},
   "outputs": [],
   "source": [
    "(\n",
    "    ggplot(predictionlev_holdout_summary, aes(x=\"n_accommodates\"))\n",
    "    + geom_point(aes(y=\"mean\"), fill='k',  size = 5)\n",
    "    + geom_errorbar(aes(ymin=\"obs_ci_lower\", ymax=\"obs_ci_upper\"), width=0.2)\n",
    "    + geom_errorbar(aes(ymin=\"mean_ci_lower\", ymax=\"mean_ci_upper\"), width=0.5)\n",
    "    + scale_y_continuous(name=\"Predicted price (US dollars)\")\n",
    "    + scale_x_continuous(name=\"Accomodates (Persons)\", breaks = [1,2,3,4,5,6, 7])\n",
    "    + scale_color_manual(values=(color[1], color[1]))\n",
    "    + labs(title = \"Mean predictions and confidence intervals\")\n",
    "    + theme_bw()\n",
    "    + theme(legend_title=element_blank(), legend_position=\"none\")\n",
    ")"
   ]
  },
  {
   "cell_type": "code",
   "execution_count": null,
   "metadata": {},
   "outputs": [],
   "source": []
  }
 ],
 "metadata": {
  "kernelspec": {
   "display_name": "Python 3 (ipykernel)",
   "language": "python",
   "name": "python3"
  },
  "language_info": {
   "codemirror_mode": {
    "name": "ipython",
    "version": 3
   },
   "file_extension": ".py",
   "mimetype": "text/x-python",
   "name": "python",
   "nbconvert_exporter": "python",
   "pygments_lexer": "ipython3",
   "version": "3.10.13"
  }
 },
 "nbformat": 4,
 "nbformat_minor": 4
}
