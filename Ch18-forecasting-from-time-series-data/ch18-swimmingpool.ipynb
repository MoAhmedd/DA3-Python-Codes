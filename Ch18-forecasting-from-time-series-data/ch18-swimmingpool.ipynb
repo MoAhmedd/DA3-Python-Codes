{
 "cells": [
  {
   "cell_type": "markdown",
   "metadata": {},
   "source": [
    "### Chapter 18\n",
    "**CH18 Forecasting daily ticket sales for a swimming pool**\n",
    "\n",
    "using swim data\n",
    "\n",
    "version 1.1 2024-01-10"
   ]
  },
  {
   "cell_type": "code",
   "execution_count": null,
   "metadata": {},
   "outputs": [],
   "source": [
    "import pandas as pd\n",
    "import numpy as np\n",
    "import warnings\n",
    "import sys\n",
    "import os\n",
    "\n",
    "# import pandas_market_calendars as \n",
    "import holidays\n",
    "from datetime import datetime\n",
    "from plotnine import *\n",
    "import matplotlib.pyplot as plt\n",
    "import seaborn as sns\n",
    "from mizani.formatters import date_format\n",
    "from patsy import dmatrices\n",
    "from sklearn.model_selection import LeaveOneGroupOut\n",
    "from sklearn.linear_model import LinearRegression\n",
    "from sklearn.metrics import mean_squared_error\n",
    "import statsmodels.api as sm\n",
    "\n",
    "warnings.filterwarnings(\"ignore\")"
   ]
  },
  {
   "cell_type": "code",
   "execution_count": null,
   "metadata": {},
   "outputs": [],
   "source": [
    "%matplotlib inline"
   ]
  },
  {
   "cell_type": "markdown",
   "metadata": {},
   "source": [
    "### Get Data"
   ]
  },
  {
   "cell_type": "code",
   "execution_count": null,
   "metadata": {},
   "outputs": [],
   "source": [
    "# Current script and repository folder\n",
    "current_path = os.getcwd()\n",
    "repository_path = current_path.split('Ch18')[0]"
   ]
  },
  {
   "cell_type": "code",
   "execution_count": null,
   "metadata": {},
   "outputs": [],
   "source": [
    "# Add utils folder to sys path \n",
    "# Note: os.path.join() creates a string with the right syntax for defining a path for your operating sytem.\n",
    "sys.path.append(os.path.join(repository_path, 'utils'))"
   ]
  },
  {
   "cell_type": "code",
   "execution_count": null,
   "metadata": {},
   "outputs": [],
   "source": [
    "# Define data folder\n",
    "data_path = os.path.join(repository_path, 'data')"
   ]
  },
  {
   "cell_type": "code",
   "execution_count": null,
   "metadata": {},
   "outputs": [],
   "source": [
    "# Import the prewritten helper functions\n",
    "from py_helper_functions import *"
   ]
  },
  {
   "cell_type": "raw",
   "metadata": {},
   "source": [
    "# DATA IMPORT - FROM FILE\n",
    "data = pd.read_csv(os.path.join(data_path, 'swim_work.csv'), parse_dates=['date'])"
   ]
  },
  {
   "cell_type": "code",
   "execution_count": null,
   "metadata": {},
   "outputs": [],
   "source": [
    "# DATA IMPORT - FROM GITHUB\n",
    "data = pd.read_csv('https://raw.githubusercontent.com/peterduronelly/DA3-Python-Codes/main/data/swim_work.csv')"
   ]
  },
  {
   "cell_type": "code",
   "execution_count": null,
   "metadata": {},
   "outputs": [],
   "source": [
    "data.head()"
   ]
  },
  {
   "cell_type": "code",
   "execution_count": null,
   "metadata": {},
   "outputs": [],
   "source": [
    "data.info()"
   ]
  },
  {
   "cell_type": "markdown",
   "metadata": {},
   "source": [
    "### EDA"
   ]
  },
  {
   "cell_type": "code",
   "execution_count": null,
   "metadata": {},
   "outputs": [],
   "source": [
    "daily_agg = data.copy()"
   ]
  },
  {
   "cell_type": "code",
   "execution_count": null,
   "metadata": {},
   "outputs": [],
   "source": [
    "daily_agg.date = pd.to_datetime(daily_agg.date, format= '%Y-%m-%d')"
   ]
  },
  {
   "cell_type": "code",
   "execution_count": null,
   "metadata": {},
   "outputs": [],
   "source": [
    "daily_agg.info()"
   ]
  },
  {
   "cell_type": "code",
   "execution_count": null,
   "metadata": {},
   "outputs": [],
   "source": [
    "daily_agg[\"year\"] = daily_agg[\"date\"].dt.year\n",
    "daily_agg[\"quarter\"] = daily_agg[\"date\"].dt.quarter\n",
    "daily_agg[\"month\"] = daily_agg[\"date\"].dt.month\n",
    "daily_agg[\"day\"] = daily_agg[\"date\"].dt.day\n",
    "daily_agg[\"dow\"] = daily_agg[\"date\"].dt.dayofweek + 1\n",
    "daily_agg[\"weekend\"] = daily_agg[\"dow\"].isin([6, 7])"
   ]
  },
  {
   "cell_type": "code",
   "execution_count": null,
   "metadata": {},
   "outputs": [],
   "source": [
    "daily_agg[\"school_off\"] = (\n",
    "    ((daily_agg[\"day\"] > 15) & (daily_agg[\"month\"] == 5) & (daily_agg[\"day\"] <= 30))\n",
    "    | ((daily_agg[\"month\"] == 6) | (daily_agg[\"month\"] == 7))\n",
    "    | ((daily_agg[\"day\"] < 15) & (daily_agg[\"month\"] == 8))\n",
    "    | ((daily_agg[\"day\"] > 20) & (daily_agg[\"month\"] == 12))\n",
    ")"
   ]
  },
  {
   "cell_type": "code",
   "execution_count": null,
   "metadata": {},
   "outputs": [],
   "source": [
    "daily_agg[\"trend\"] = daily_agg.index + 1"
   ]
  },
  {
   "cell_type": "code",
   "execution_count": null,
   "metadata": {},
   "outputs": [],
   "source": [
    "# Get holiday calendar ----------------------------------"
   ]
  },
  {
   "cell_type": "raw",
   "metadata": {},
   "source": [
    "nyse = mcal.get_calendar(\"NYSE\")\n",
    "\n",
    "holidays = nyse.holidays().holidays"
   ]
  },
  {
   "cell_type": "code",
   "execution_count": null,
   "metadata": {},
   "outputs": [],
   "source": [
    "minyear = daily_agg.date.min().year\n",
    "maxyear = daily_agg.date.max().year"
   ]
  },
  {
   "cell_type": "code",
   "execution_count": null,
   "metadata": {},
   "outputs": [],
   "source": [
    "usholidays = holidays.UnitedStates(years = [x for x in range(minyear, maxyear + 1, 1)])"
   ]
  },
  {
   "cell_type": "code",
   "execution_count": null,
   "metadata": {},
   "outputs": [],
   "source": [
    "for dat in usholidays.items():\n",
    "    print(dat)"
   ]
  },
  {
   "cell_type": "code",
   "execution_count": null,
   "metadata": {},
   "outputs": [],
   "source": [
    "holiday_days = [x[0] for x in usholidays.items()]"
   ]
  },
  {
   "cell_type": "code",
   "execution_count": null,
   "metadata": {},
   "outputs": [],
   "source": [
    "holiday_days[0:10]"
   ]
  },
  {
   "cell_type": "code",
   "execution_count": null,
   "metadata": {},
   "outputs": [],
   "source": [
    "daily_agg.date[0]"
   ]
  },
  {
   "cell_type": "code",
   "execution_count": null,
   "metadata": {},
   "outputs": [],
   "source": [
    "daily_agg[\"isHoliday\"] = daily_agg[\"date\"].isin(holiday_days)"
   ]
  },
  {
   "cell_type": "markdown",
   "metadata": {},
   "source": [
    "Did we get the holidays right?"
   ]
  },
  {
   "cell_type": "code",
   "execution_count": null,
   "metadata": {},
   "outputs": [],
   "source": [
    "daily_agg[daily_agg.date == datetime(2010,7,4)]"
   ]
  },
  {
   "cell_type": "markdown",
   "metadata": {},
   "source": [
    "Is *Maria Himmelfahrt* a holiday in the US?"
   ]
  },
  {
   "cell_type": "code",
   "execution_count": null,
   "metadata": {},
   "outputs": [],
   "source": [
    "daily_agg[daily_agg.date == datetime(2010,8,15)]"
   ]
  },
  {
   "cell_type": "markdown",
   "metadata": {},
   "source": [
    "### Define vars for analysis"
   ]
  },
  {
   "cell_type": "code",
   "execution_count": null,
   "metadata": {},
   "outputs": [],
   "source": [
    "daily_agg[\"q_month\"] = daily_agg.groupby(\"month\")[\"QUANTITY\"].transform(\"mean\")\n",
    "\n",
    "daily_agg[\"QUANTITY2\"] = np.where(daily_agg[\"QUANTITY\"] < 1, 1, daily_agg[\"QUANTITY\"])\n",
    "\n",
    "daily_agg[\"q_ln\"] = np.log(daily_agg[\"QUANTITY2\"])\n",
    "\n",
    "daily_agg[\"tickets\"] = daily_agg.groupby([\"month\", \"dow\"])[\"QUANTITY\"].transform(\"mean\")\n",
    "\n",
    "daily_agg[\"tickets_ln\"] = daily_agg.groupby([\"month\", \"dow\"])[\"q_ln\"].transform(\"mean\")\n",
    "\n",
    "daily_agg[\"dow_abb\"] = daily_agg[\"date\"].dt.day_name().str[:3]\n",
    "\n",
    "daily_agg[\"month_abb\"] = daily_agg[\"date\"].dt.month_name().str[:3]"
   ]
  },
  {
   "cell_type": "markdown",
   "metadata": {},
   "source": [
    "## Descriptive graphs"
   ]
  },
  {
   "cell_type": "code",
   "execution_count": null,
   "metadata": {},
   "outputs": [],
   "source": [
    "ggplot(\n",
    "    daily_agg.loc[daily_agg.year == 2015, :], aes(x=\"date\", y=\"QUANTITY\")\n",
    ") + geom_line(size=0.4, color=color[0]) + scale_x_date(\n",
    "    breaks=[\"2015-01-01\", \"2015-04-01\", \"2015-07-01\", \"2015-10-01\", \"2016-01-01\"],\n",
    "    labels=date_format(\"%d%b%Y\"),\n",
    "    date_minor_breaks=\"1 month\",\n",
    ") + labs(\n",
    "    x=\"Date (day)\", y=\"Daily ticket sales\"\n",
    ") + theme_bw()"
   ]
  },
  {
   "cell_type": "code",
   "execution_count": null,
   "metadata": {},
   "outputs": [],
   "source": [
    "daily_agg[daily_agg.year == 2015].plot(\n",
    "    kind = 'line', figsize = (8,6),\n",
    "    x = 'date', y = 'QUANTITY', \n",
    "    grid = True, legend = False, title = 'Daily ticket sales in 2015');"
   ]
  },
  {
   "cell_type": "code",
   "execution_count": null,
   "metadata": {},
   "outputs": [],
   "source": [
    "ggplot(\n",
    "    daily_agg.loc[(daily_agg.year >= 2010) & (daily_agg.year <= 2014), :],\n",
    "    aes(x=\"date\", y=\"QUANTITY\"),\n",
    ") + geom_line(size=0.2, color=color[0]) + scale_x_date(\n",
    "    breaks=[\n",
    "        \"2010-01-01\",\n",
    "        \"2011-01-01\",\n",
    "        \"2012-01-01\",\n",
    "        \"2013-01-01\",\n",
    "        \"2014-01-01\",\n",
    "        \"2015-01-01\",\n",
    "    ],\n",
    "    labels=date_format(\"%d%b%Y\"),\n",
    "    date_minor_breaks=\"3 months\",\n",
    ") + labs(\n",
    "    x=\"Date (day)\", y=\"Daily ticket sales\"\n",
    ") + theme_bw()"
   ]
  },
  {
   "cell_type": "code",
   "execution_count": null,
   "metadata": {},
   "outputs": [],
   "source": [
    "daily_agg[daily_agg.year < 2016].plot(\n",
    "    kind = 'line', figsize = (8,6),\n",
    "    x = 'date', y = 'QUANTITY', linewidth = 0.5,\n",
    "    grid = True, legend = False, title = 'Daily ticket sales between 2010-2015');"
   ]
  },
  {
   "cell_type": "code",
   "execution_count": null,
   "metadata": {},
   "outputs": [],
   "source": [
    "ggplot(daily_agg, aes(x=\"reorder(month_abb,month)\", y=\"QUANTITY\")) + geom_boxplot(\n",
    "    color=color[0],size=0.8, outlier_stroke=0.4, outlier_color=\"yellow\", outlier_alpha=0.6\n",
    ") + labs(x=\"Date (month)\", y=\"Daily ticket sales\") + theme_bw()"
   ]
  },
  {
   "cell_type": "code",
   "execution_count": null,
   "metadata": {},
   "outputs": [],
   "source": [
    "ax = sns.boxplot(data= daily_agg, x = 'month', y = 'QUANTITY')\n",
    "ax.set_ylabel('Daily ticket sales')\n",
    "ax.set_title('Ticket sales distribution by month');"
   ]
  },
  {
   "cell_type": "code",
   "execution_count": null,
   "metadata": {},
   "outputs": [],
   "source": [
    "ggplot(\n",
    "    daily_agg, aes(x=\"reorder(dow_abb,dow)\", y=\"QUANTITY\")\n",
    ") + geom_boxplot(\n",
    "    color=color[0],size=0.8, outlier_stroke=0.4, outlier_color=\"yellow\", outlier_alpha=0.6\n",
    ") + labs(x=\"Day of the week\", y=\"Daily ticket sales\", title = 'Ticket sales distribution by day of week'\n",
    ") + theme_bw()"
   ]
  },
  {
   "cell_type": "code",
   "execution_count": null,
   "metadata": {},
   "outputs": [],
   "source": [
    "ax = sns.boxplot(data= daily_agg, x = 'dow', y = 'QUANTITY', color = 'grey')\n",
    "ax.set_ylabel('Daily ticket sales')\n",
    "ax.set_title('Ticket sales distribution by day of week');"
   ]
  },
  {
   "cell_type": "code",
   "execution_count": null,
   "metadata": {},
   "outputs": [],
   "source": [
    "# to check for interactions, look at the heatmap\n",
    "\n",
    "swim_heatmap = (\n",
    "    ggplot(\n",
    "        daily_agg,\n",
    "        aes(x=\"reorder(dow_abb,dow)\", y=\"reorder(month_abb,month)\", fill=\"tickets\"),\n",
    "    )\n",
    "    + geom_tile(colour=\"white\")\n",
    "    + scale_fill_cmap(trans=\"reverse\")\n",
    "    + labs(x=\"Day of the week\", y=\"Month\") \n",
    "    + theme_bw()\n",
    "    + theme(\n",
    "        legend_position=\"right\",\n",
    "        legend_text=element_text(size=10),\n",
    "        legend_title=element_text(size=10),\n",
    "    )\n",
    ")\n",
    "swim_heatmap"
   ]
  },
  {
   "cell_type": "code",
   "execution_count": null,
   "metadata": {},
   "outputs": [],
   "source": [
    "daily_agg.pivot_table(index=\"month\", columns=\"dow\", values=\"QUANTITY\", aggfunc='sum')"
   ]
  },
  {
   "cell_type": "code",
   "execution_count": null,
   "metadata": {},
   "outputs": [],
   "source": [
    "daily_agg.pivot_table(index=\"month\", columns=\"dow\", values=\"QUANTITY\", aggfunc='mean')"
   ]
  },
  {
   "cell_type": "code",
   "execution_count": null,
   "metadata": {},
   "outputs": [],
   "source": [
    "sns.heatmap(\n",
    "    data = daily_agg.pivot_table(index=\"month\", columns=\"dow\", values=\"QUANTITY\", aggfunc='mean'), \n",
    "    annot = True, \n",
    "    # which colormap do you prefer?\n",
    "    cmap = 'turbo',\n",
    "    # cmap = 'coolwarm',\n",
    "    fmt = '.0f');"
   ]
  },
  {
   "cell_type": "markdown",
   "metadata": {},
   "source": [
    "`matplotlib` colormaps [here](https://matplotlib.org/stable/users/explain/colors/colormaps.html)"
   ]
  },
  {
   "cell_type": "code",
   "execution_count": null,
   "metadata": {},
   "outputs": [],
   "source": [
    "swim_heatmap_log = (\n",
    "    ggplot(\n",
    "        daily_agg,\n",
    "        aes(x=\"reorder(dow_abb,dow)\", y=\"reorder(month_abb,month)\", fill=\"tickets_ln\"),\n",
    "    )\n",
    "    + geom_tile(colour=\"white\")\n",
    "    + scale_fill_cmap(trans=\"reverse\")\n",
    "    + labs(x=\"Day of the week\", y=\"Month\") \n",
    "    + theme_bw()\n",
    "    + theme(\n",
    "        legend_position=\"right\",\n",
    "        legend_text=element_text(size=10),\n",
    "        legend_title=element_text(size=10),\n",
    "    )\n",
    ")\n",
    "swim_heatmap_log"
   ]
  },
  {
   "cell_type": "markdown",
   "metadata": {},
   "source": [
    "### Prediction\n",
    "\n",
    "#### Create train/holdout data"
   ]
  },
  {
   "cell_type": "code",
   "execution_count": null,
   "metadata": {},
   "outputs": [],
   "source": [
    "factor_cols = [\"month\", \"dow\", \"isHoliday\", \"school_off\"]\n",
    "\n",
    "daily_agg[factor_cols] = daily_agg[factor_cols].astype(\"category\")\n",
    "data_holdout = daily_agg.loc[daily_agg['year']==2016,:]\n",
    "data_train = daily_agg.loc[daily_agg['year']<2016,:]"
   ]
  },
  {
   "cell_type": "code",
   "execution_count": null,
   "metadata": {},
   "outputs": [],
   "source": [
    "data_train.tail()"
   ]
  },
  {
   "cell_type": "code",
   "execution_count": null,
   "metadata": {},
   "outputs": [],
   "source": [
    "logo = LeaveOneGroupOut()\n",
    "groups = data_train.loc[:,'year'].to_numpy()\n",
    "groups"
   ]
  },
  {
   "cell_type": "markdown",
   "metadata": {},
   "source": [
    "Note: `LeaveOneOut()` is equivalent to `KFold(n_splits=n)`"
   ]
  },
  {
   "cell_type": "code",
   "execution_count": null,
   "metadata": {},
   "outputs": [],
   "source": [
    "data_train.year.unique()"
   ]
  },
  {
   "cell_type": "markdown",
   "metadata": {},
   "source": [
    "#### Linear regression"
   ]
  },
  {
   "cell_type": "code",
   "execution_count": null,
   "metadata": {},
   "outputs": [],
   "source": [
    "lin_reg = LinearRegression(fit_intercept=False)"
   ]
  },
  {
   "cell_type": "markdown",
   "metadata": {},
   "source": [
    "LeaveOneGroupOut object's `split` method:\n",
    "- **X**: array-like of shape (n_samples, n_features); training data, where n_samples is the number of samples and n_features is the number of features.\n",
    "- **y**: object; always ignored, exists for compatibility.\n",
    "- **groups**: object; always ignored, exists for compatibility."
   ]
  },
  {
   "cell_type": "code",
   "execution_count": null,
   "metadata": {},
   "outputs": [],
   "source": [
    "def fit_cv_model_get_rmse(y, X, groups):\n",
    "    rmse_folds = []\n",
    "    for train_index, test_index in logo.split(X, y, groups):\n",
    "        X_train, X_test = X[train_index], X[test_index]\n",
    "        y_train, y_test = y[train_index], y[test_index]\n",
    "        lin_reg.fit(X_train, y_train)\n",
    "        y_hat = lin_reg.predict(X_test)\n",
    "        rmse_folds.append(mean_squared_error(y_test, y_hat, squared=False))\n",
    "\n",
    "    return np.mean(rmse_folds)"
   ]
  },
  {
   "cell_type": "markdown",
   "metadata": {},
   "source": [
    "**Model 1: linear trend + monthly seasonality**"
   ]
  },
  {
   "cell_type": "code",
   "execution_count": null,
   "metadata": {},
   "outputs": [],
   "source": [
    "%%time\n",
    "y, X = dmatrices(\"QUANTITY ~ 1+ trend + month\", data_train)\n",
    "\n",
    "rmse_reg1 = fit_cv_model_get_rmse(y, X, groups)"
   ]
  },
  {
   "cell_type": "markdown",
   "metadata": {},
   "source": [
    "**Model 2: linear trend + monthly seasonality + days of week seasonality**"
   ]
  },
  {
   "cell_type": "code",
   "execution_count": null,
   "metadata": {},
   "outputs": [],
   "source": [
    "y,X = dmatrices(\"QUANTITY ~ 1+ trend + month + dow\",data_train)\n",
    "\n",
    "rmse_reg2 = fit_cv_model_get_rmse(y, X, groups)"
   ]
  },
  {
   "cell_type": "markdown",
   "metadata": {},
   "source": [
    "**Model 3: linear trend + monthly seasonality + days of week  seasonality + holidays**"
   ]
  },
  {
   "cell_type": "code",
   "execution_count": null,
   "metadata": {},
   "outputs": [],
   "source": [
    "y,X = dmatrices(\"QUANTITY ~ 1 + trend + month + dow + isHoliday\",data_train)\n",
    "\n",
    "rmse_reg3 = fit_cv_model_get_rmse(y, X, groups)"
   ]
  },
  {
   "cell_type": "markdown",
   "metadata": {},
   "source": [
    "**Model 4: linear trend + monthly seasonality + days of week  seasonality + holidays + sch$*$dow**"
   ]
  },
  {
   "cell_type": "code",
   "execution_count": null,
   "metadata": {},
   "outputs": [],
   "source": [
    "y,X = dmatrices(\"QUANTITY ~ 1 + trend + month + dow + isHoliday + school_off*dow\",data_train)\n",
    "\n",
    "rmse_reg4 = fit_cv_model_get_rmse(y, X, groups)"
   ]
  },
  {
   "cell_type": "markdown",
   "metadata": {},
   "source": [
    "**Model 5: linear trend + monthly seasonality + days of week  seasonality + holidays + interactions**"
   ]
  },
  {
   "cell_type": "code",
   "execution_count": null,
   "metadata": {},
   "outputs": [],
   "source": [
    "y, X = dmatrices(\n",
    "    \"QUANTITY ~ 1 + trend + month + dow + isHoliday + school_off*dow+ weekend*month\",\n",
    "    data_train,\n",
    ")\n",
    "\n",
    "rmse_reg5 = fit_cv_model_get_rmse(y, X, groups)"
   ]
  },
  {
   "cell_type": "code",
   "execution_count": null,
   "metadata": {},
   "outputs": [],
   "source": [
    "data_train2 = data_train[data_train.QUANTITY >= 1]\n",
    "groups = data_train2.loc[:,'year'].to_numpy()"
   ]
  },
  {
   "cell_type": "markdown",
   "metadata": {},
   "source": [
    "Note: we could have done:\n",
    "```python\n",
    "groups = data_train2.year.to_numpy()\n",
    "```"
   ]
  },
  {
   "cell_type": "markdown",
   "metadata": {},
   "source": [
    "**Model 6: trend + monthly seasonality + days of week seasonality + holidays + interactions**\n",
    "\n",
    "Why is it different than Model 5?"
   ]
  },
  {
   "cell_type": "code",
   "execution_count": null,
   "metadata": {},
   "outputs": [],
   "source": [
    "y, X = dmatrices(\n",
    "    \"q_ln ~ 1 + trend + month + dow +school_off*dow\", data_train2\n",
    ")\n",
    "\n",
    "rmse_folds = []\n",
    "for train_index, test_index in logo.split(X, y, groups):\n",
    "    X_train, X_test = X[train_index], X[test_index]\n",
    "    y_train, y_test = y[train_index], y[test_index]\n",
    "    lin_reg.fit(X_train, y_train)\n",
    "    y_hat = lin_reg.predict(X)\n",
    "\n",
    "    corrb = mean_squared_error(y , y_hat)\n",
    "\n",
    "    y_hat = np.exp((lin_reg.predict(X_test) + corrb / 2))\n",
    "    rmse_folds.append(mean_squared_error(np.exp(y_test), y_hat, squared=False))\n",
    "\n",
    "rmse_reg6 = np.mean(rmse_folds)\n",
    "# rmse_reg6"
   ]
  },
  {
   "cell_type": "markdown",
   "metadata": {},
   "source": [
    "#### Prophet"
   ]
  },
  {
   "cell_type": "markdown",
   "metadata": {},
   "source": [
    "Cross-validation with `Prophet` done with prophet: https://facebook.github.io/prophet/docs/diagnostics.html. This is a *time-series-based (!!!)* cross-validation."
   ]
  },
  {
   "cell_type": "code",
   "execution_count": null,
   "metadata": {},
   "outputs": [],
   "source": [
    "from prophet import Prophet\n",
    "from prophet.diagnostics import cross_validation\n",
    "from prophet.diagnostics import performance_metrics"
   ]
  },
  {
   "cell_type": "markdown",
   "metadata": {},
   "source": [
    "*Question*: why are we building an additive model?"
   ]
  },
  {
   "cell_type": "code",
   "execution_count": null,
   "metadata": {},
   "outputs": [],
   "source": [
    "model_prophet = Prophet(\n",
    "    seasonality_mode=\"additive\",\n",
    "    yearly_seasonality=\"auto\",\n",
    "    weekly_seasonality=\"auto\",\n",
    "    growth=\"linear\",\n",
    "    daily_seasonality=True,\n",
    ")\n",
    "\n",
    "model_prophet = Prophet.add_country_holidays(model_prophet,\"US\")"
   ]
  },
  {
   "cell_type": "code",
   "execution_count": null,
   "metadata": {},
   "outputs": [],
   "source": [
    "model_prophet = Prophet.fit(\n",
    "    model_prophet,\n",
    "    df=data_train[[\"date\", \"QUANTITY\"]].rename({\"date\": \"ds\", \"QUANTITY\": \"y\"}, axis=1),\n",
    ")"
   ]
  },
  {
   "cell_type": "code",
   "execution_count": null,
   "metadata": {},
   "outputs": [],
   "source": [
    "cv_pred = cross_validation(\n",
    "    model_prophet, \n",
    "    initial=\"365 days\", \n",
    "    period=\"365 days\", \n",
    "    horizon=\"365 days\"\n",
    ")"
   ]
  },
  {
   "cell_type": "code",
   "execution_count": null,
   "metadata": {},
   "outputs": [],
   "source": [
    "cv_pred"
   ]
  },
  {
   "cell_type": "code",
   "execution_count": null,
   "metadata": {},
   "outputs": [],
   "source": [
    "performance_metrics(cv_pred,rolling_window = 1)"
   ]
  },
  {
   "cell_type": "code",
   "execution_count": null,
   "metadata": {},
   "outputs": [],
   "source": [
    "rmse_prophet_cv = performance_metrics(cv_pred, rolling_window = 1)[\"rmse\"][0]"
   ]
  },
  {
   "cell_type": "markdown",
   "metadata": {},
   "source": [
    "Note: M6 log model rmse is slightly different from the one found in the book"
   ]
  },
  {
   "cell_type": "code",
   "execution_count": null,
   "metadata": {},
   "outputs": [],
   "source": [
    "pd.DataFrame(\n",
    "    [rmse_reg1, rmse_reg2, rmse_reg3, rmse_reg4, rmse_reg5, rmse_reg6, rmse_prophet_cv],\n",
    "    [\"M\" + str(i) for i in range(1, 6)] + [\"M6 (log)\", \"M7 (Prophet)\"],\n",
    "    columns=[\"RMSE\"],\n",
    ").round(2)"
   ]
  },
  {
   "cell_type": "markdown",
   "metadata": {},
   "source": [
    "### Evaluate best model on the holdout set"
   ]
  },
  {
   "cell_type": "code",
   "execution_count": null,
   "metadata": {},
   "outputs": [],
   "source": [
    "lin_reg = LinearRegression(fit_intercept=False)\n",
    "\n",
    "y, X = dmatrices(\n",
    "    \"QUANTITY ~ 1 + trend + month + dow + isHoliday + school_off*dow+ weekend*month\",\n",
    "    data_train,\n",
    ")\n",
    "\n",
    "lin_reg.fit(X, y)\n",
    "\n",
    "_, X_holdout = dmatrices(\n",
    "    \"QUANTITY ~ 1 + trend + month + dow + isHoliday + school_off*dow+ weekend*month\",\n",
    "    data_holdout,\n",
    ")"
   ]
  },
  {
   "cell_type": "markdown",
   "metadata": {},
   "source": [
    "*Question*: what is '`_`' in the previous code chunk?"
   ]
  },
  {
   "cell_type": "code",
   "execution_count": null,
   "metadata": {},
   "outputs": [],
   "source": [
    "data_holdout[\"y_hat_5\"] = lin_reg.predict(X_holdout)"
   ]
  },
  {
   "cell_type": "code",
   "execution_count": null,
   "metadata": {},
   "outputs": [],
   "source": [
    "rmse_holdout_best = mean_squared_error(\n",
    "    data_holdout.QUANTITY, \n",
    "    data_holdout.y_hat_5, \n",
    "    squared=False # default: True > returns MSE\n",
    ")\n",
    "rmse_holdout_best"
   ]
  },
  {
   "cell_type": "markdown",
   "metadata": {},
   "source": [
    "#### Detour: interpreting regression coefficients"
   ]
  },
  {
   "cell_type": "code",
   "execution_count": null,
   "metadata": {},
   "outputs": [],
   "source": [
    "y, X = dmatrices(\n",
    "    \"QUANTITY ~ trend + month + dow + isHoliday + school_off*dow+ weekend*month\",\n",
    "    data_train,\n",
    ")"
   ]
  },
  {
   "cell_type": "code",
   "execution_count": null,
   "metadata": {},
   "outputs": [],
   "source": [
    "best_ols_results = sm.OLS(y, X).fit()"
   ]
  },
  {
   "cell_type": "code",
   "execution_count": null,
   "metadata": {},
   "outputs": [],
   "source": [
    "print(best_ols_results.summary2())"
   ]
  },
  {
   "cell_type": "markdown",
   "metadata": {},
   "source": [
    "<br>\n",
    "\n",
    "- What does it mean?\n",
    "\n",
    "```\n",
    "\"The smallest eigenvalue is 6.54e-28. This might indicate that there are \n",
    "strong multicollinearity problems or that the design matrix is singular\" \n",
    "\n",
    "```\n",
    "."
   ]
  },
  {
   "cell_type": "code",
   "execution_count": null,
   "metadata": {},
   "outputs": [],
   "source": [
    "best_ols_results.eigenvals"
   ]
  },
  {
   "cell_type": "code",
   "execution_count": null,
   "metadata": {},
   "outputs": [],
   "source": [
    "plt.hist(best_ols_results.resid, bins = 51, rwidth = 0.9);"
   ]
  },
  {
   "cell_type": "markdown",
   "metadata": {},
   "source": [
    "### Plot best predictions\n",
    "\n",
    "Relative RMSE on the holdout set per month"
   ]
  },
  {
   "cell_type": "code",
   "execution_count": null,
   "metadata": {},
   "outputs": [],
   "source": [
    "group = data_holdout.sort_values(by=[\"month\"]).groupby(\"month\")"
   ]
  },
  {
   "cell_type": "code",
   "execution_count": null,
   "metadata": {},
   "outputs": [],
   "source": [
    "type(group)"
   ]
  },
  {
   "cell_type": "code",
   "execution_count": null,
   "metadata": {},
   "outputs": [],
   "source": [
    "group.apply(lambda x: mean_squared_error(x.QUANTITY, x.y_hat_5, squared=False))"
   ]
  },
  {
   "cell_type": "code",
   "execution_count": null,
   "metadata": {},
   "outputs": [],
   "source": [
    "rmse_monthly = pd.DataFrame(\n",
    "    [\n",
    "        group.apply(lambda x: mean_squared_error(x.QUANTITY, x.y_hat_5, squared=False)),\n",
    "        group.apply(\n",
    "            lambda x: mean_squared_error(x.QUANTITY, x.y_hat_5, squared=False) / np.mean(x.QUANTITY)\n",
    "        ),\n",
    "    ],\n",
    "    index=[\"RMSE\", \"RMSE_norm\"],\n",
    ").T.reset_index()"
   ]
  },
  {
   "cell_type": "code",
   "execution_count": null,
   "metadata": {},
   "outputs": [],
   "source": [
    "rmse_monthly"
   ]
  },
  {
   "cell_type": "code",
   "execution_count": null,
   "metadata": {},
   "outputs": [],
   "source": [
    "g_predictions_rmse = (\n",
    "    ggplot(rmse_monthly, aes(x=\"month\", y=\"RMSE_norm\"))\n",
    "    + geom_col(color=color[0],fill=color[0])\n",
    "    + labs(x=\"Date (month)\", y=\"RMSE (normalized by monthly sales)\")\n",
    "    + theme_bw()\n",
    ")\n",
    "g_predictions_rmse"
   ]
  },
  {
   "cell_type": "code",
   "execution_count": null,
   "metadata": {},
   "outputs": [],
   "source": [
    "rmse_monthly.plot(\n",
    "    kind = 'bar', x = 'month', y = 'RMSE_norm',\n",
    "    legend = False\n",
    ");"
   ]
  },
  {
   "cell_type": "code",
   "execution_count": null,
   "metadata": {},
   "outputs": [],
   "source": [
    "ax = sns.barplot(data = rmse_monthly, x = 'month', y = 'RMSE_norm')\n",
    "ax.grid(visible = True, axis = 'y')\n",
    "ax.set_ylabel('normalized RMSE')\n",
    "ax.set_title('Normalized RMSE across months');"
   ]
  },
  {
   "cell_type": "code",
   "execution_count": null,
   "metadata": {},
   "outputs": [],
   "source": [
    "(\n",
    "    ggplot(data_holdout, aes(x=\"date\"))\n",
    "    + geom_line(aes(y=\"QUANTITY\"), color=color[0], linetype=\"solid\")\n",
    "    + geom_line(aes(y=\"y_hat_5\"), color=color[1], linetype=\"dashed\")\n",
    "    + scale_y_continuous(expand=(0, 0))\n",
    "    + scale_x_date(\n",
    "        expand=(0, 0),\n",
    "        breaks=[\n",
    "            \"2016-01-01\",\n",
    "            \"2016-03-01\",\n",
    "            \"2016-05-01\",\n",
    "            \"2016-07-01\",\n",
    "            \"2016-09-01\",\n",
    "            \"2016-11-01\",\n",
    "            \"2017-01-01\",\n",
    "        ],\n",
    "        labels=date_format(\"%d%b%Y\"),\n",
    "        date_minor_breaks=\"1 month\",\n",
    "    )\n",
    "    + scale_linetype_manual(name=\"\", values=(\"solid\", \"twodash\"))\n",
    "    + labs(x=\"Date (day)\", y=\"Daily ticket sales\")\n",
    "    + scale_fill_identity(name=\"\", breaks=color[0:2], labels=[\"Actual\", \"Predicted\"])\n",
    "    + theme_bw()\n",
    ")"
   ]
  },
  {
   "cell_type": "code",
   "execution_count": null,
   "metadata": {},
   "outputs": [],
   "source": [
    "(\n",
    "    ggplot(data_holdout.query(\"month == 8\"), aes(x=\"date\"))\n",
    "    + geom_line(aes(y=\"QUANTITY\"), color=color[0], size=1)\n",
    "    + geom_line(aes(y=\"y_hat_5\"), color=color[1], linetype=\"dashed\", size=1)\n",
    "    + geom_ribbon(aes(ymin=\"QUANTITY\", ymax=\"y_hat_5\"), fill=\"yellow\", alpha=0.3)\n",
    "    + labs(y = 'tickets sold', title = 'Actual vs predicted ticket sales, August 2016')\n",
    "    + scale_y_continuous(expand=(0.01, 0.01), limits=(0, 150))\n",
    "    + scale_x_date(\n",
    "        expand=(0.01, 0.01),\n",
    "        breaks=[\"2016-08-01\", \"2016-08-08\", \"2016-08-15\", \"2016-08-22\", \"2016-08-29\"],\n",
    "        labels=date_format(\"%d%b\"),\n",
    "    )\n",
    "    + theme_bw()\n",
    ")"
   ]
  },
  {
   "cell_type": "code",
   "execution_count": null,
   "metadata": {},
   "outputs": [],
   "source": [
    "x = data_holdout[(data_holdout.year == 2016) & (data_holdout.month == 8)].date\n",
    "y1 = data_holdout[(data_holdout.year == 2016) & (data_holdout.month == 8)].QUANTITY\n",
    "y2 = data_holdout[(data_holdout.year == 2016) & (data_holdout.month == 8)].y_hat_5"
   ]
  },
  {
   "cell_type": "code",
   "execution_count": null,
   "metadata": {},
   "outputs": [],
   "source": [
    "plt.subplots(figsize = (8,6))\n",
    "plt.plot(x, y1, color = 'k')\n",
    "plt.plot(x, y2, color = 'k', linestyle = '--')\n",
    "plt.fill_between(x, y1, y2, color = 'lightblue')\n",
    "plt.legend(['actual', 'predicted'])\n",
    "plt.ylabel('tickets sold')\n",
    "plt.grid(True)\n",
    "plt.title('Actual vs predicted ticket sales, August 2016')\n",
    "plt.xticks(x.tolist()[0::7]);"
   ]
  },
  {
   "cell_type": "code",
   "execution_count": null,
   "metadata": {},
   "outputs": [],
   "source": []
  }
 ],
 "metadata": {
  "kernelspec": {
   "display_name": "Python 3 (ipykernel)",
   "language": "python",
   "name": "python3"
  },
  "language_info": {
   "codemirror_mode": {
    "name": "ipython",
    "version": 3
   },
   "file_extension": ".py",
   "mimetype": "text/x-python",
   "name": "python",
   "nbconvert_exporter": "python",
   "pygments_lexer": "ipython3",
   "version": "3.10.13"
  }
 },
 "nbformat": 4,
 "nbformat_minor": 4
}
