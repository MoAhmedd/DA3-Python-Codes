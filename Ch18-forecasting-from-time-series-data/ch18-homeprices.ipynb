{
 "cells": [
  {
   "cell_type": "markdown",
   "metadata": {},
   "source": [
    "### Chapter 18\n",
    "**CH18B Forecasting a home price index**\n",
    "\n",
    "using case-schiller-la dataset\n",
    "\n",
    "version 1.1 2024-01-11"
   ]
  },
  {
   "cell_type": "code",
   "execution_count": null,
   "metadata": {},
   "outputs": [],
   "source": [
    "import os\n",
    "from pathlib import Path\n",
    "import pandas as pd\n",
    "import numpy as np\n",
    "from mizani.breaks import date_breaks\n",
    "from mizani.formatters import date_format\n",
    "from plotnine import *\n",
    "import seaborn as sns\n",
    "import matplotlib.pyplot as plt\n",
    "from datetime import datetime\n",
    "import sys\n",
    "import statsmodels\n",
    "import patsy\n",
    "from pmdarima.arima import auto_arima\n",
    "import statsmodels.formula.api as smf\n",
    "import warnings\n",
    "from sklearn.metrics import mean_squared_error\n",
    "\n",
    "warnings.filterwarnings(\"ignore\")"
   ]
  },
  {
   "cell_type": "code",
   "execution_count": null,
   "metadata": {},
   "outputs": [],
   "source": [
    "%matplotlib inline"
   ]
  },
  {
   "cell_type": "markdown",
   "metadata": {},
   "source": [
    "### Get Data"
   ]
  },
  {
   "cell_type": "code",
   "execution_count": null,
   "metadata": {},
   "outputs": [],
   "source": [
    "# Current script and repository folder\n",
    "current_path = os.getcwd()\n",
    "repository_path = current_path.split('Ch18')[0]"
   ]
  },
  {
   "cell_type": "code",
   "execution_count": null,
   "metadata": {},
   "outputs": [],
   "source": [
    "# Add utils folder to sys path \n",
    "# Note: os.path.join() creates a string with the right syntax for defining a path for your operating sytem.\n",
    "sys.path.append(os.path.join(repository_path, 'utils'))"
   ]
  },
  {
   "cell_type": "code",
   "execution_count": null,
   "metadata": {},
   "outputs": [],
   "source": [
    "# Define data folder\n",
    "data_path = os.path.join(repository_path, 'data')"
   ]
  },
  {
   "cell_type": "code",
   "execution_count": null,
   "metadata": {},
   "outputs": [],
   "source": [
    "# Import the prewritten helper functions\n",
    "from py_helper_functions import *"
   ]
  },
  {
   "cell_type": "raw",
   "metadata": {},
   "source": [
    "# DATA IMPORT - FROM FILE\n",
    "data = pd.read_csv(os.path.join(data_path, 'homeprices-data-2000-2018.csv'))"
   ]
  },
  {
   "cell_type": "code",
   "execution_count": null,
   "metadata": {},
   "outputs": [],
   "source": [
    "# DATA IMPORT - FROM GITHUB\n",
    "data = pd.read_csv('https://raw.githubusercontent.com/peterduronelly/DA3-Python-Codes/main/data/homeprices-data-2000-2018.csv')"
   ]
  },
  {
   "cell_type": "code",
   "execution_count": null,
   "metadata": {},
   "outputs": [],
   "source": [
    "data.head()"
   ]
  },
  {
   "cell_type": "code",
   "execution_count": null,
   "metadata": {},
   "outputs": [],
   "source": [
    "data.info()"
   ]
  },
  {
   "cell_type": "markdown",
   "metadata": {},
   "source": [
    "### EDA"
   ]
  },
  {
   "cell_type": "code",
   "execution_count": null,
   "metadata": {},
   "outputs": [],
   "source": [
    "data = data.assign(date=lambda x: x.date.str[0:7])\n",
    "data = data.rename({\"pn\": \"p\", \"us\": \"u\", \"emps\": \"emp\"}, axis=1)"
   ]
  },
  {
   "cell_type": "code",
   "execution_count": null,
   "metadata": {},
   "outputs": [],
   "source": [
    "data.sort_values(by=[\"date\"], inplace= True)"
   ]
  },
  {
   "cell_type": "code",
   "execution_count": null,
   "metadata": {},
   "outputs": [],
   "source": [
    "data['dp'] = data.p.diff(1)\n",
    "data['p_lag'] = data.p.shift(1)\n",
    "data['lnp'] = np.log(data.p)\n",
    "data['dlnp'] = data.lnp.diff(1)\n",
    "data['lnp_lag'] = data.lnp.shift(1)\n",
    "data['dlnp_lag'] = data.dlnp.shift(1)\n",
    "data['du'] = data.u.diff(1)\n",
    "data['lnemp'] = np.log(data.emp)\n",
    "data['dlnemp'] = data.lnemp.diff(1)\n",
    "data['trend'] = range(1, data.shape[0] + 1)"
   ]
  },
  {
   "cell_type": "code",
   "execution_count": null,
   "metadata": {},
   "outputs": [],
   "source": [
    "data.tail()"
   ]
  },
  {
   "cell_type": "code",
   "execution_count": null,
   "metadata": {},
   "outputs": [],
   "source": [
    "pd.to_datetime(data.date)"
   ]
  },
  {
   "cell_type": "code",
   "execution_count": null,
   "metadata": {},
   "outputs": [],
   "source": [
    "limits = datetime(2000, 1, 1), datetime(2019, 1, 1)\n",
    "breaks = date_breaks(\"1 year\")\n",
    "\n",
    "price_index_plot = (\n",
    "    ggplot(data, aes(x=\"date\", y=\"p\", group=1))\n",
    "    + geom_line(color=color[0], size=1)\n",
    "    + scale_y_continuous(limits=[50, 300], breaks=seq(50, 301, 50))\n",
    "    + scale_x_date(breaks=breaks(limits)[::3], labels=date_format(\"%b%Y\"))\n",
    "    + labs(y=\"Case-shiller Price index\", x=\"Date (month)\")\n",
    "    + theme_bw()\n",
    ")\n",
    "price_index_plot"
   ]
  },
  {
   "cell_type": "code",
   "execution_count": null,
   "metadata": {},
   "outputs": [],
   "source": [
    "plt.subplots(figsize = (8,6))\n",
    "plt.plot(pd.to_datetime(data.date), data.p)\n",
    "plt.ylabel('Case-shiller Price index')\n",
    "plt.grid(True);"
   ]
  },
  {
   "cell_type": "markdown",
   "metadata": {},
   "source": [
    "**Log difference of price index**"
   ]
  },
  {
   "cell_type": "code",
   "execution_count": null,
   "metadata": {},
   "outputs": [],
   "source": [
    "dp_plot = (\n",
    "    ggplot(data, aes(x=\"date\", y=\"dp\", group=1))\n",
    "    + geom_line(color=color[0], size=1)\n",
    "    + scale_y_continuous(limits=[-10, 8], breaks=seq(-10, 9, 2))\n",
    "    + scale_x_date(breaks=breaks(limits)[::3], labels=date_format(\"%b%Y\"))\n",
    "    + labs(y=\"First difference of price index\", x=\"Date (month)\")\n",
    "    + theme_bw()\n",
    ")\n",
    "dp_plot"
   ]
  },
  {
   "cell_type": "code",
   "execution_count": null,
   "metadata": {},
   "outputs": [],
   "source": [
    "plt.subplots(figsize = (8,6))\n",
    "plt.plot(pd.to_datetime(data.date), data.dp)\n",
    "plt.ylabel('first difference of the price index')\n",
    "plt.hlines(0, xmin = pd.to_datetime(data.date).min(), xmax = pd.to_datetime(data.date).max(), color = 'k')\n",
    "plt.grid(True);"
   ]
  },
  {
   "cell_type": "markdown",
   "metadata": {},
   "source": [
    "Log difference of price index"
   ]
  },
  {
   "cell_type": "code",
   "execution_count": null,
   "metadata": {},
   "outputs": [],
   "source": [
    "limits = datetime(2000, 1, 1), datetime(2018, 1, 1)\n",
    "breaks = date_breaks(\"1 year\")\n",
    "\n",
    "dlnp_plot = (\n",
    "    ggplot(data, aes(x=\"date\", y=\"dlnp\", group=1))\n",
    "    + geom_line(color=color[0], size=1)\n",
    "    + scale_y_continuous(limits=[-0.04, 0.04], breaks=seq(-0.04, 0.05, 0.01))\n",
    "    + scale_x_date(breaks=breaks(limits)[::3], labels=date_format(\"%b%Y\"))\n",
    "    + labs(y=\"Log first difference of price index\", x=\"Date (month)\")\n",
    "    + theme_bw()\n",
    ")\n",
    "dlnp_plot"
   ]
  },
  {
   "cell_type": "markdown",
   "metadata": {},
   "source": [
    "**Employment**"
   ]
  },
  {
   "cell_type": "code",
   "execution_count": null,
   "metadata": {},
   "outputs": [],
   "source": [
    "emp_plot = (\n",
    "    ggplot(data, aes(x=\"date\", y=\"emp\", group=1))\n",
    "    + geom_line(color=color[0], size=1)\n",
    "    + scale_x_date(breaks=breaks(limits)[::3], labels=date_format(\"%b%Y\"))\n",
    "    + labs(y=\"Employment (in thousands)\", x=\"Date (month)\")\n",
    "    + theme_bw()\n",
    ")\n",
    "emp_plot"
   ]
  },
  {
   "cell_type": "markdown",
   "metadata": {},
   "source": [
    "Log diff employment"
   ]
  },
  {
   "cell_type": "code",
   "execution_count": null,
   "metadata": {},
   "outputs": [],
   "source": [
    "lnemp_plot = (\n",
    "    ggplot(data, aes(x=\"date\", y=\"dlnemp\", group=1))\n",
    "    + geom_line(color=color[0], size=1)\n",
    "    + scale_x_date(breaks=breaks(limits)[::3], labels=date_format(\"%b%Y\"))\n",
    "    + labs(y=\"Log change in employment\", x=\"Date (month)\")\n",
    "    + theme_bw()\n",
    ")\n",
    "\n",
    "lnemp_plot"
   ]
  },
  {
   "cell_type": "markdown",
   "metadata": {},
   "source": [
    "Unemployment rate"
   ]
  },
  {
   "cell_type": "code",
   "execution_count": null,
   "metadata": {},
   "outputs": [],
   "source": [
    "u_plot = (\n",
    "    ggplot(data, aes(x=\"date\", y=\"u\", group=1))\n",
    "    + geom_line(color=color[0], size=1)\n",
    "    + scale_x_date(breaks=breaks(limits)[::3], labels=date_format(\"%b%Y\"))\n",
    "    + labs(y=\"Unemployment rate (percent)\", x=\"Date (month)\")\n",
    "    + theme_bw()\n",
    ")\n",
    "\n",
    "u_plot"
   ]
  },
  {
   "cell_type": "markdown",
   "metadata": {},
   "source": [
    "Unemployment 1st diff"
   ]
  },
  {
   "cell_type": "code",
   "execution_count": null,
   "metadata": {},
   "outputs": [],
   "source": [
    "du_plot = (\n",
    "    ggplot(data, aes(x=\"date\", y=\"du\", group=1))\n",
    "    + geom_line(color=color[0], size=1)\n",
    "    + scale_x_date(breaks=breaks(limits)[::3], labels=date_format(\"%b%Y\"))\n",
    "    + labs(y=\"Change in unemployment rate\", x=\"Date (month)\")\n",
    "    + theme_bw()\n",
    ")\n",
    "\n",
    "du_plot"
   ]
  },
  {
   "cell_type": "markdown",
   "metadata": {},
   "source": [
    "### Create work set and holdout set\n",
    "\n",
    "- we start after the [GFC](https://en.wikipedia.org/wiki/2007%E2%80%932008_financial_crisis)"
   ]
  },
  {
   "cell_type": "code",
   "execution_count": null,
   "metadata": {},
   "outputs": [],
   "source": [
    "data[\"date\"] = pd.to_datetime(data[\"date\"])"
   ]
  },
  {
   "cell_type": "markdown",
   "metadata": {},
   "source": [
    "**create work and holdout sets**"
   ]
  },
  {
   "cell_type": "code",
   "execution_count": null,
   "metadata": {},
   "outputs": [],
   "source": [
    "data_holdout = data[data.year == 2018]\n",
    "data_work = data[data.year < 2018]"
   ]
  },
  {
   "cell_type": "markdown",
   "metadata": {},
   "source": [
    "**create training and test sets for 4 folds**"
   ]
  },
  {
   "cell_type": "code",
   "execution_count": null,
   "metadata": {},
   "outputs": [],
   "source": [
    "for year in range(2013, 2018):\n",
    "    fold = year - 2012\n",
    "    data_work[\"test\" + str(fold)] = data_work[\"year\"] == year\n",
    "    data_work[\"train\" + str(fold)] = (data_work[\"year\"] <= year - 1) & (\n",
    "        data_work[\"year\"] >= year - 13\n",
    "    )"
   ]
  },
  {
   "cell_type": "code",
   "execution_count": null,
   "metadata": {},
   "outputs": [],
   "source": [
    "data_work.columns"
   ]
  },
  {
   "cell_type": "code",
   "execution_count": null,
   "metadata": {},
   "outputs": [],
   "source": [
    "data_work[data_work.train1]"
   ]
  },
  {
   "cell_type": "code",
   "execution_count": null,
   "metadata": {},
   "outputs": [],
   "source": [
    "data_work[data_work.test1]"
   ]
  },
  {
   "cell_type": "code",
   "execution_count": null,
   "metadata": {},
   "outputs": [],
   "source": [
    "data_work[data_work.train2]"
   ]
  },
  {
   "cell_type": "code",
   "execution_count": null,
   "metadata": {},
   "outputs": [],
   "source": [
    "data_work[data_work.test2]"
   ]
  },
  {
   "cell_type": "markdown",
   "metadata": {},
   "source": [
    "### Modelling"
   ]
  },
  {
   "cell_type": "code",
   "execution_count": null,
   "metadata": {},
   "outputs": [],
   "source": [
    "from statsmodels.tsa.arima.model import ARIMA\n",
    "from statsmodels.tsa.api import VAR"
   ]
  },
  {
   "cell_type": "markdown",
   "metadata": {},
   "source": [
    "**Model M1: OLS on trend & seasonality**"
   ]
  },
  {
   "cell_type": "code",
   "execution_count": null,
   "metadata": {},
   "outputs": [],
   "source": [
    "mse_1 = []\n",
    "for i in range(1, 5):\n",
    "\n",
    "    train_data = data_work.loc[lambda x: x[\"train\" + str(i)] == 1]\n",
    "    test_data = data_work.loc[lambda x: x[\"test\" + str(i)] == 1]\n",
    "\n",
    "    model1 = smf.ols(\"p ~ trend + C(month)\", train_data).fit()\n",
    "\n",
    "    phat = model1.predict(test_data)\n",
    "\n",
    "    errsq = np.square(test_data.p.values - phat)\n",
    "\n",
    "    mse_1.append(np.mean(errsq))\n",
    "\n",
    "rmse_cv_m1 = np.sqrt(np.mean(mse_1))"
   ]
  },
  {
   "cell_type": "markdown",
   "metadata": {},
   "source": [
    "**Model M2: p ARIMA(1,1,2)**\n",
    "\n",
    "- get order from auto_arima"
   ]
  },
  {
   "cell_type": "code",
   "execution_count": null,
   "metadata": {},
   "outputs": [],
   "source": [
    "auto_arima_m2 = auto_arima(\n",
    "    y = data_work.p,\n",
    "    start_p = 0,\n",
    "    max_p = 1,  # without this constrain, python returns a higher AR order\n",
    "    # max_order=0,\n",
    "    seasonal = False\n",
    ")\n",
    "\n",
    "mse_2 = []\n",
    "\n",
    "for i in range(1, 5):\n",
    "\n",
    "    train_data = data_work.loc[lambda x: x[\"train\" + str(i)] == 1]\n",
    "    test_data = data_work.loc[lambda x: x[\"test\" + str(i)] == 1]\n",
    "\n",
    "    model2 = ARIMA(train_data.p, order=auto_arima_m2.get_params()[\"order\"]).fit()\n",
    "\n",
    "    phat = model2.forecast(steps=12)\n",
    "\n",
    "    errsq = np.square(test_data.p.values - phat)\n",
    "\n",
    "    mse_2.append(np.mean(errsq))\n",
    "\n",
    "rmse_cv_m2 = np.sqrt(np.mean(mse_2))"
   ]
  },
  {
   "cell_type": "code",
   "execution_count": null,
   "metadata": {},
   "outputs": [],
   "source": [
    "rmse_cv_m2"
   ]
  },
  {
   "cell_type": "code",
   "execution_count": null,
   "metadata": {},
   "outputs": [],
   "source": [
    "auto_arima_m2.get_params()"
   ]
  },
  {
   "cell_type": "markdown",
   "metadata": {},
   "source": [
    "**Model M3: p ARIMA(1,1,0)**\n",
    "\n",
    "- get order from auto_arima"
   ]
  },
  {
   "cell_type": "markdown",
   "metadata": {},
   "source": [
    "How to create dummies with Pandas"
   ]
  },
  {
   "cell_type": "code",
   "execution_count": null,
   "metadata": {},
   "outputs": [],
   "source": [
    "pd.get_dummies(data_work.month).iloc[0:12]"
   ]
  },
  {
   "cell_type": "markdown",
   "metadata": {},
   "source": [
    "In the backend caluclations `numpy` cannot correctly handle booleans, so a type conversion is necessary."
   ]
  },
  {
   "cell_type": "code",
   "execution_count": null,
   "metadata": {},
   "outputs": [],
   "source": [
    "pd.get_dummies(data_work.month).iloc[0:12].astype(int)"
   ]
  },
  {
   "cell_type": "code",
   "execution_count": null,
   "metadata": {},
   "outputs": [],
   "source": [
    "auto_arima_m3 = auto_arima(\n",
    "    y = data_work.p, \n",
    "    X = pd.get_dummies(data_work.month).astype(int), \n",
    "    seasonal = False\n",
    ")"
   ]
  },
  {
   "cell_type": "code",
   "execution_count": null,
   "metadata": {},
   "outputs": [],
   "source": [
    "auto_arima_m3.get_params()"
   ]
  },
  {
   "cell_type": "code",
   "execution_count": null,
   "metadata": {},
   "outputs": [],
   "source": [
    "mse_3 = []\n",
    "for i in range(1, 5):\n",
    "\n",
    "    train_data = data_work.loc[lambda x: x[\"train\" + str(i)] == 1]\n",
    "    test_data = data_work.loc[lambda x: x[\"test\" + str(i)] == 1]\n",
    "\n",
    "    model3 = ARIMA(\n",
    "        train_data.p,\n",
    "        exog=pd.get_dummies(train_data.month),\n",
    "        order=auto_arima_m3.get_params()[\"order\"],\n",
    "    ).fit()\n",
    "\n",
    "    phat = model3.forecast(steps=12, exog=pd.get_dummies(test_data.month))\n",
    "\n",
    "    errsq = np.square(test_data.p.values - phat)\n",
    "\n",
    "    mse_3.append(np.mean(errsq))\n",
    "\n",
    "rmse_cv_m3 = np.sqrt(np.mean(mse_3))"
   ]
  },
  {
   "cell_type": "code",
   "execution_count": null,
   "metadata": {},
   "outputs": [],
   "source": [
    "rmse_cv_m3"
   ]
  },
  {
   "cell_type": "markdown",
   "metadata": {},
   "source": [
    "**Model M4: p ARIMA(2,0,0) + seasonality + trend**"
   ]
  },
  {
   "cell_type": "code",
   "execution_count": null,
   "metadata": {},
   "outputs": [],
   "source": [
    "X = pd.get_dummies(data_work.month).astype(int)\n",
    "X.columns = [str(x) for x in X.columns] # we need to convert numerical colnames to str as pmdarima cannot handle column names of mixed types\n",
    "X['trend'] = data_work.trend\n",
    "X"
   ]
  },
  {
   "cell_type": "code",
   "execution_count": null,
   "metadata": {},
   "outputs": [],
   "source": [
    "auto_arima_m4 = auto_arima(\n",
    "    y = data_work.p,\n",
    "    X = X,\n",
    "    seasonal = False,\n",
    ")"
   ]
  },
  {
   "cell_type": "code",
   "execution_count": null,
   "metadata": {},
   "outputs": [],
   "source": [
    "auto_arima_m4.get_params()"
   ]
  },
  {
   "cell_type": "code",
   "execution_count": null,
   "metadata": {},
   "outputs": [],
   "source": [
    "mse_4 = []\n",
    "for i in range(1, 5):\n",
    "\n",
    "    train_data = data_work.loc[lambda x: x[\"train\" + str(i)] == 1]\n",
    "    test_data = data_work.loc[lambda x: x[\"test\" + str(i)] == 1]\n",
    "\n",
    "    model4 = ARIMA(\n",
    "        train_data.p,\n",
    "        exog = pd.get_dummies(train_data.month).astype(int),\n",
    "        trend = 't', # 't' stands for a linear term\n",
    "        order = auto_arima_m4.get_params()[\"order\"],\n",
    "    ).fit()\n",
    "\n",
    "    phat = model4.forecast(steps=12, exog=pd.get_dummies(test_data.month), trend=\"t\")\n",
    "\n",
    "    errsq = np.square(test_data.p.values - phat)\n",
    "\n",
    "    mse_4.append(np.mean(errsq))\n",
    "\n",
    "rmse_cv_m4 = np.sqrt(np.mean(mse_4))"
   ]
  },
  {
   "cell_type": "code",
   "execution_count": null,
   "metadata": {},
   "outputs": [],
   "source": [
    "rmse_cv_m4"
   ]
  },
  {
   "cell_type": "markdown",
   "metadata": {},
   "source": [
    "**Model M5: dp ~ month + trend, without any ARIMA**"
   ]
  },
  {
   "cell_type": "code",
   "execution_count": null,
   "metadata": {},
   "outputs": [],
   "source": [
    "mse_5 = []\n",
    "for i in range(1, 5):\n",
    "\n",
    "    train_data = data_work.loc[lambda x: x[\"train\" + str(i)] == 1]\n",
    "    test_data = data_work.loc[lambda x: x[\"test\" + str(i)] == 1]\n",
    "\n",
    "    model5 = smf.ols(\"dp ~ trend + C(month)\", train_data).fit()\n",
    "\n",
    "    dphat = model5.predict(test_data)\n",
    "\n",
    "    test_data[\"phat\"] = None\n",
    "    \n",
    "    for i in range(0, 12):\n",
    "        if i == 0:\n",
    "            test_data.iloc[i, -1] = train_data[\"p\"].values[-1] + dphat.iloc[i]\n",
    "        else:\n",
    "            test_data.iloc[i, -1] = test_data.iloc[i - 1, -1] + dphat.iloc[i]\n",
    "\n",
    "    errsq = np.square(test_data[\"p\"] - test_data[\"phat\"])\n",
    "\n",
    "    mse_5.append(np.mean(errsq))\n",
    "\n",
    "rmse_cv_m5 = np.sqrt(np.mean(mse_5))"
   ]
  },
  {
   "cell_type": "code",
   "execution_count": null,
   "metadata": {},
   "outputs": [],
   "source": [
    "rmse_cv_m5"
   ]
  },
  {
   "cell_type": "markdown",
   "metadata": {},
   "source": [
    "**Model M6: lnp ARIMA(0,2,0) + built-in seasonality using `auto_arima`**"
   ]
  },
  {
   "cell_type": "code",
   "execution_count": null,
   "metadata": {},
   "outputs": [],
   "source": [
    "auto_arima_m6 = auto_arima(\n",
    "    y = data_work.lnp,\n",
    "    d = 2,  # without this constrain, python returns other ARIMA order\n",
    "    seasonal=True,\n",
    "    m = 12\n",
    ")"
   ]
  },
  {
   "cell_type": "code",
   "execution_count": null,
   "metadata": {},
   "outputs": [],
   "source": [
    "auto_arima_m6.get_params()"
   ]
  },
  {
   "cell_type": "code",
   "execution_count": null,
   "metadata": {},
   "outputs": [],
   "source": [
    "mse_6 = []\n",
    "for i in range(1, 5):\n",
    "\n",
    "    train_data = data_work.loc[lambda x: x[\"train\" + str(i)] == 1]\n",
    "    test_data = data_work.loc[lambda x: x[\"test\" + str(i)] == 1]\n",
    "\n",
    "    model6 = ARIMA(\n",
    "        train_data.lnp,\n",
    "        # exog=pd.get_dummies(train_data.month),\n",
    "        order=auto_arima_m6.get_params()[\"order\"],\n",
    "    ).fit()\n",
    "\n",
    "    lnphat = model6.forecast(steps=12, exog=pd.get_dummies(test_data.month))\n",
    "\n",
    "    corrb = mean_squared_error(test_data.lnp, lnphat)\n",
    "\n",
    "    phat = np.exp((lnphat + corrb / 2))\n",
    "\n",
    "    errsq = np.square(test_data.p.values - phat)\n",
    "\n",
    "    mse_6.append(np.mean(errsq))\n",
    "\n",
    "rmse_cv_m6 = np.sqrt(np.mean(mse_6))"
   ]
  },
  {
   "cell_type": "code",
   "execution_count": null,
   "metadata": {},
   "outputs": [],
   "source": [
    "rmse_cv_m6"
   ]
  },
  {
   "cell_type": "markdown",
   "metadata": {},
   "source": [
    "**Vector Autoregression**"
   ]
  },
  {
   "cell_type": "code",
   "execution_count": null,
   "metadata": {},
   "outputs": [],
   "source": [
    "mse_var = []\n",
    "for i in range(1, 5):\n",
    "\n",
    "    train_data = data_work.loc[lambda x: x[\"train\" + str(i)] == 1, :].dropna()\n",
    "    test_data = data_work.loc[lambda x: x[\"test\" + str(i)] == 1, :].dropna()\n",
    "\n",
    "    model7 = VAR(train_data[[\"dp\", \"du\", \"dlnemp\"]]).fit(1)\n",
    "\n",
    "    dphat = model7.forecast(\n",
    "        train_data[[\"dp\", \"du\", \"dlnemp\"]].values[-model7.k_ar :], steps=12\n",
    "    )[:, 0]\n",
    "\n",
    "    test_data[\"phat\"] = None\n",
    "    for i in range(0, 12):\n",
    "        if i == 0:\n",
    "            test_data.iloc[i, -1] = train_data[\"p\"].values[-1] + dphat[i]\n",
    "        else:\n",
    "            test_data.iloc[i, -1] = test_data.iloc[i - 1, -1] + dphat[i]\n",
    "\n",
    "    errsq = np.square(test_data[\"p\"] - test_data[\"phat\"])\n",
    "\n",
    "    mse_var.append(np.mean(errsq))\n",
    "\n",
    "rmse_cv_m7 = np.sqrt(np.mean(mse_var))"
   ]
  },
  {
   "cell_type": "code",
   "execution_count": null,
   "metadata": {},
   "outputs": [],
   "source": [
    "rmse_cv_m7"
   ]
  },
  {
   "cell_type": "markdown",
   "metadata": {},
   "source": [
    "#### Summary\n",
    "\n",
    "*Note: some model's cv rmse differns from textbook*"
   ]
  },
  {
   "cell_type": "code",
   "execution_count": null,
   "metadata": {},
   "outputs": [],
   "source": [
    "pd.DataFrame(\n",
    "    [mse_1, mse_2, mse_3, mse_4, mse_5, mse_6, mse_var],\n",
    "    columns=[\"Fold\" + str(i) for i in range(1, 5)],\n",
    ").apply(np.sqrt).assign(\n",
    "    Average=[\n",
    "        rmse_cv_m1,\n",
    "        rmse_cv_m2,\n",
    "        rmse_cv_m3,\n",
    "        rmse_cv_m4,\n",
    "        rmse_cv_m5,\n",
    "        rmse_cv_m6,\n",
    "        rmse_cv_m7,\n",
    "    ],\n",
    "    model=[\"M\" + str(i) for i in range(1, 7)] + [\"M7 (var)\"],\n",
    ").round(\n",
    "    2\n",
    ").set_index(\n",
    "    \"model\"\n",
    ")"
   ]
  },
  {
   "cell_type": "markdown",
   "metadata": {},
   "source": [
    "### Predict for holdout"
   ]
  },
  {
   "cell_type": "markdown",
   "metadata": {},
   "source": [
    "**The best model is M4.**"
   ]
  },
  {
   "cell_type": "code",
   "execution_count": null,
   "metadata": {},
   "outputs": [],
   "source": [
    "auto_arima_m4.get_params()"
   ]
  },
  {
   "cell_type": "markdown",
   "metadata": {},
   "source": [
    "- What's inside the model?"
   ]
  },
  {
   "cell_type": "code",
   "execution_count": null,
   "metadata": {},
   "outputs": [],
   "source": [
    "print(auto_arima_m4.summary())"
   ]
  },
  {
   "cell_type": "code",
   "execution_count": null,
   "metadata": {},
   "outputs": [],
   "source": [
    "auto_arima_m4.plot_diagnostics(figsize = (9,7));"
   ]
  },
  {
   "cell_type": "markdown",
   "metadata": {},
   "source": [
    "- Re-estimate best models on full work set"
   ]
  },
  {
   "cell_type": "code",
   "execution_count": null,
   "metadata": {},
   "outputs": [],
   "source": [
    "model_final = ARIMA(\n",
    "    data_work.p, \n",
    "    exog = pd.get_dummies(data_work.month).astype(int), \n",
    "    trend = \"t\", \n",
    "    order = auto_arima_m4.get_params()[\"order\"]\n",
    ").fit()"
   ]
  },
  {
   "cell_type": "code",
   "execution_count": null,
   "metadata": {},
   "outputs": [],
   "source": [
    "print(model_final.summary())"
   ]
  },
  {
   "cell_type": "code",
   "execution_count": null,
   "metadata": {},
   "outputs": [],
   "source": [
    "pred_final = model_final.get_forecast(\n",
    "    steps=12, \n",
    "    exog = pd.get_dummies(data_holdout.month).astype(int),\n",
    "    trend=\"t\"\n",
    ")"
   ]
  },
  {
   "cell_type": "code",
   "execution_count": null,
   "metadata": {},
   "outputs": [],
   "source": [
    "data_holdout"
   ]
  },
  {
   "cell_type": "code",
   "execution_count": null,
   "metadata": {},
   "outputs": [],
   "source": [
    "forecast_holdout_best = (\n",
    "    data_holdout.assign(\n",
    "        p_pred = pred_final.predicted_mean.values, \n",
    "        model=\"best\")\n",
    "    .join(pred_final.conf_int(alpha=0.2))\n",
    "    .filter([\"model\", \"p_pred\", \"lower p\", \"upper p\"])\n",
    ")"
   ]
  },
  {
   "cell_type": "code",
   "execution_count": null,
   "metadata": {},
   "outputs": [],
   "source": [
    "forecast_holdout_best"
   ]
  },
  {
   "cell_type": "code",
   "execution_count": null,
   "metadata": {},
   "outputs": [],
   "source": [
    "data_plot = data.join(forecast_holdout_best).loc[lambda x: x.year >= 2015]"
   ]
  },
  {
   "cell_type": "code",
   "execution_count": null,
   "metadata": {},
   "outputs": [],
   "source": [
    "data_plot_1 = pd.melt(data_plot[[\"date\",\"p\",\"p_pred\"]],[\"date\"])"
   ]
  },
  {
   "cell_type": "code",
   "execution_count": null,
   "metadata": {},
   "outputs": [],
   "source": [
    "data_plot_1"
   ]
  },
  {
   "cell_type": "code",
   "execution_count": null,
   "metadata": {},
   "outputs": [],
   "source": [
    "pred_p_plot = (\n",
    "    ggplot(data_plot_1, aes(x=\"date\", y=\"value\", color=\"variable\"))\n",
    "    + geom_line(size=1)\n",
    "    + ylab(\"Case-Shiller Home Price Index\")\n",
    "    + xlab(\"Date (month)\")\n",
    "    + scale_color_manual(\n",
    "        name=\" \", values=(color[0], color[1]), labels=(\"Actual\", \"Prediction\")\n",
    "    )\n",
    "    + scale_x_date(date_breaks=\"1 years\", labels=date_format(\"%b%Y\"))\n",
    "    + theme_bw()\n",
    "    + theme(legend_position=(0.7, 0.3), legend_direction=\"horizontal\")\n",
    ")\n",
    "pred_p_plot"
   ]
  },
  {
   "cell_type": "code",
   "execution_count": null,
   "metadata": {},
   "outputs": [],
   "source": [
    "pred_p_plot = (\n",
    "    ggplot(data_plot, aes(x=\"date\"))\n",
    "    + geom_line(aes(y=\"p\"), color=color[0], size=0.7)\n",
    "    + geom_line(aes(y=\"p_pred\"), color=color[1], size=1)\n",
    "    + geom_line(aes(y=\"lower p\"), color=color[1], size=0)\n",
    "    + geom_line(aes(y=\"upper p\"), color=color[1], size=0)\n",
    "    + geom_ribbon(aes(ymin=\"lower p\", ymax=\"upper p\"), fill=\"green\", alpha=0.3)\n",
    "    + ylab(\"Case-Shiller Home Price Index\")\n",
    "    + xlab(\"Date (month)\")\n",
    "    + theme_bw()\n",
    "    + scale_x_date(date_breaks=\"1 years\", labels=date_format(\"%b%Y\"))\n",
    ")\n",
    "pred_p_plot"
   ]
  },
  {
   "cell_type": "code",
   "execution_count": null,
   "metadata": {},
   "outputs": [],
   "source": [
    "plt.subplots(figsize = (8,6))\n",
    "plt.plot(data_plot.date, data_plot.p, color = 'k')\n",
    "plt.plot(data_plot.date, data_plot.p_pred, color = 'darkblue', linestyle = '--')\n",
    "plt.fill_between(data_plot.date, data_plot['lower p'], data_plot['upper p'], color = 'darkblue', alpha = 0.5)\n",
    "plt.legend(['actual', 'predicted', 'prediction interval'], loc = 'upper left')\n",
    "plt.ylabel('2000 = 100')\n",
    "plt.grid(True)\n",
    "plt.yticks(range(220,340,10))\n",
    "plt.title('Case-Shiller Home Price Index: Actual vs Prediction');"
   ]
  },
  {
   "cell_type": "code",
   "execution_count": null,
   "metadata": {},
   "outputs": [],
   "source": [
    "errsq = np.square(data_holdout.p.values - forecast_holdout_best.p_pred)\n",
    "\n",
    "rmse_holdout = np.mean(errsq)\n",
    "rmse_holdout"
   ]
  },
  {
   "cell_type": "code",
   "execution_count": null,
   "metadata": {},
   "outputs": [],
   "source": []
  }
 ],
 "metadata": {
  "kernelspec": {
   "display_name": "Python 3 (ipykernel)",
   "language": "python",
   "name": "python3"
  },
  "language_info": {
   "codemirror_mode": {
    "name": "ipython",
    "version": 3
   },
   "file_extension": ".py",
   "mimetype": "text/x-python",
   "name": "python",
   "nbconvert_exporter": "python",
   "pygments_lexer": "ipython3",
   "version": "3.10.13"
  }
 },
 "nbformat": 4,
 "nbformat_minor": 4
}
